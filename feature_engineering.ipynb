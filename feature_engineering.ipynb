{
 "cells": [
  {
   "cell_type": "code",
   "execution_count": 1,
   "metadata": {},
   "outputs": [
    {
     "name": "stdout",
     "output_type": "stream",
     "text": [
      "Defaulting to user installation because normal site-packages is not writeable\n",
      "Requirement already satisfied: requests in /usr/local/lib/python3.11/site-packages (from -r requirements.txt (line 1)) (2.31.0)\n",
      "Requirement already satisfied: osm2geojson in /home/sveta/.local/lib/python3.11/site-packages (from -r requirements.txt (line 2)) (0.2.5)\n",
      "Requirement already satisfied: geopandas in /home/sveta/.local/lib/python3.11/site-packages (from -r requirements.txt (line 3)) (1.0.1)\n",
      "Requirement already satisfied: pandas in /usr/local/lib/python3.11/site-packages (from -r requirements.txt (line 4)) (2.2.0)\n",
      "Requirement already satisfied: matplotlib in /usr/local/lib/python3.11/site-packages (from -r requirements.txt (line 5)) (3.8.2)\n",
      "Requirement already satisfied: polars in /home/sveta/.local/lib/python3.11/site-packages (from -r requirements.txt (line 6)) (1.17.1)\n",
      "Requirement already satisfied: pyarrow in /home/sveta/.local/lib/python3.11/site-packages (from -r requirements.txt (line 7)) (18.1.0)\n",
      "Requirement already satisfied: contextily in /home/sveta/.local/lib/python3.11/site-packages (from -r requirements.txt (line 8)) (1.6.2)\n",
      "Requirement already satisfied: matplotlib-scalebar in /home/sveta/.local/lib/python3.11/site-packages (from -r requirements.txt (line 9)) (0.8.1)\n",
      "Requirement already satisfied: ipympl in /home/sveta/.local/lib/python3.11/site-packages (from -r requirements.txt (line 10)) (0.9.5)\n",
      "Requirement already satisfied: ipywidgets in /home/sveta/.local/lib/python3.11/site-packages (from -r requirements.txt (line 11)) (8.1.5)\n",
      "Requirement already satisfied: jupyterlab in /usr/local/lib/python3.11/site-packages (from -r requirements.txt (line 12)) (4.0.11)\n",
      "Requirement already satisfied: libpysal in /home/sveta/.local/lib/python3.11/site-packages (from -r requirements.txt (line 13)) (4.12.1)\n",
      "Requirement already satisfied: spreg in /home/sveta/.local/lib/python3.11/site-packages (from -r requirements.txt (line 14)) (1.8.1)\n",
      "Requirement already satisfied: openpyxl in /home/sveta/.local/lib/python3.11/site-packages (from -r requirements.txt (line 15)) (3.1.5)\n",
      "Requirement already satisfied: fastexcel in /home/sveta/.local/lib/python3.11/site-packages (from -r requirements.txt (line 16)) (0.12.0)\n",
      "Requirement already satisfied: plotnine in /home/sveta/.local/lib/python3.11/site-packages (from -r requirements.txt (line 17)) (0.13.6)\n",
      "Requirement already satisfied: patchworklib in /home/sveta/.local/lib/python3.11/site-packages (from -r requirements.txt (line 18)) (0.6.5)\n",
      "Requirement already satisfied: charset-normalizer<4,>=2 in /usr/local/lib/python3.11/site-packages (from requests->-r requirements.txt (line 1)) (3.3.2)\n",
      "Requirement already satisfied: idna<4,>=2.5 in /usr/local/lib/python3.11/site-packages (from requests->-r requirements.txt (line 1)) (3.6)\n",
      "Requirement already satisfied: urllib3<3,>=1.21.1 in /usr/local/lib/python3.11/site-packages (from requests->-r requirements.txt (line 1)) (2.1.0)\n",
      "Requirement already satisfied: certifi>=2017.4.17 in /usr/local/lib/python3.11/site-packages (from requests->-r requirements.txt (line 1)) (2023.11.17)\n",
      "Requirement already satisfied: shapely in /home/sveta/.local/lib/python3.11/site-packages (from osm2geojson->-r requirements.txt (line 2)) (2.0.6)\n",
      "Requirement already satisfied: numpy>=1.22 in /usr/local/lib/python3.11/site-packages (from geopandas->-r requirements.txt (line 3)) (1.26.3)\n",
      "Requirement already satisfied: pyogrio>=0.7.2 in /home/sveta/.local/lib/python3.11/site-packages (from geopandas->-r requirements.txt (line 3)) (0.10.0)\n",
      "Requirement already satisfied: packaging in /usr/local/lib/python3.11/site-packages (from geopandas->-r requirements.txt (line 3)) (23.2)\n",
      "Requirement already satisfied: pyproj>=3.3.0 in /home/sveta/.local/lib/python3.11/site-packages (from geopandas->-r requirements.txt (line 3)) (3.7.0)\n",
      "Requirement already satisfied: python-dateutil>=2.8.2 in /usr/local/lib/python3.11/site-packages (from pandas->-r requirements.txt (line 4)) (2.8.2)\n",
      "Requirement already satisfied: pytz>=2020.1 in /usr/local/lib/python3.11/site-packages (from pandas->-r requirements.txt (line 4)) (2023.3.post1)\n",
      "Requirement already satisfied: tzdata>=2022.7 in /usr/local/lib/python3.11/site-packages (from pandas->-r requirements.txt (line 4)) (2023.4)\n",
      "Requirement already satisfied: contourpy>=1.0.1 in /usr/local/lib/python3.11/site-packages (from matplotlib->-r requirements.txt (line 5)) (1.2.0)\n",
      "Requirement already satisfied: cycler>=0.10 in /usr/local/lib/python3.11/site-packages (from matplotlib->-r requirements.txt (line 5)) (0.12.1)\n",
      "Requirement already satisfied: fonttools>=4.22.0 in /usr/local/lib/python3.11/site-packages (from matplotlib->-r requirements.txt (line 5)) (4.47.2)\n",
      "Requirement already satisfied: kiwisolver>=1.3.1 in /usr/local/lib/python3.11/site-packages (from matplotlib->-r requirements.txt (line 5)) (1.4.5)\n",
      "Requirement already satisfied: pillow>=8 in /usr/local/lib/python3.11/site-packages (from matplotlib->-r requirements.txt (line 5)) (10.2.0)\n",
      "Requirement already satisfied: pyparsing>=2.3.1 in /usr/local/lib/python3.11/site-packages (from matplotlib->-r requirements.txt (line 5)) (3.1.1)\n",
      "Requirement already satisfied: geopy in /home/sveta/.local/lib/python3.11/site-packages (from contextily->-r requirements.txt (line 8)) (2.4.1)\n",
      "Requirement already satisfied: mercantile in /home/sveta/.local/lib/python3.11/site-packages (from contextily->-r requirements.txt (line 8)) (1.2.1)\n",
      "Requirement already satisfied: rasterio in /home/sveta/.local/lib/python3.11/site-packages (from contextily->-r requirements.txt (line 8)) (1.4.3)\n",
      "Requirement already satisfied: joblib in /usr/local/lib/python3.11/site-packages (from contextily->-r requirements.txt (line 8)) (1.3.2)\n",
      "Requirement already satisfied: xyzservices in /home/sveta/.local/lib/python3.11/site-packages (from contextily->-r requirements.txt (line 8)) (2024.9.0)\n",
      "Requirement already satisfied: ipython<9 in /usr/local/lib/python3.11/site-packages (from ipympl->-r requirements.txt (line 10)) (8.20.0)\n",
      "Requirement already satisfied: traitlets<6 in /usr/local/lib/python3.11/site-packages (from ipympl->-r requirements.txt (line 10)) (5.14.1)\n",
      "Requirement already satisfied: comm>=0.1.3 in /usr/local/lib/python3.11/site-packages (from ipywidgets->-r requirements.txt (line 11)) (0.2.1)\n",
      "Requirement already satisfied: widgetsnbextension~=4.0.12 in /home/sveta/.local/lib/python3.11/site-packages (from ipywidgets->-r requirements.txt (line 11)) (4.0.13)\n",
      "Requirement already satisfied: jupyterlab-widgets~=3.0.12 in /home/sveta/.local/lib/python3.11/site-packages (from ipywidgets->-r requirements.txt (line 11)) (3.0.13)\n",
      "Requirement already satisfied: async-lru>=1.0.0 in /usr/local/lib/python3.11/site-packages (from jupyterlab->-r requirements.txt (line 12)) (2.0.4)\n",
      "Requirement already satisfied: ipykernel in /usr/local/lib/python3.11/site-packages (from jupyterlab->-r requirements.txt (line 12)) (6.29.0)\n",
      "Requirement already satisfied: jinja2>=3.0.3 in /usr/local/lib/python3.11/site-packages (from jupyterlab->-r requirements.txt (line 12)) (3.1.3)\n",
      "Requirement already satisfied: jupyter-core in /usr/local/lib/python3.11/site-packages (from jupyterlab->-r requirements.txt (line 12)) (5.7.1)\n",
      "Requirement already satisfied: jupyter-lsp>=2.0.0 in /usr/local/lib/python3.11/site-packages (from jupyterlab->-r requirements.txt (line 12)) (2.2.2)\n",
      "Requirement already satisfied: jupyter-server<3,>=2.4.0 in /usr/local/lib/python3.11/site-packages (from jupyterlab->-r requirements.txt (line 12)) (2.12.5)\n",
      "Requirement already satisfied: jupyterlab-server<3,>=2.19.0 in /usr/local/lib/python3.11/site-packages (from jupyterlab->-r requirements.txt (line 12)) (2.25.2)\n",
      "Requirement already satisfied: notebook-shim>=0.2 in /usr/local/lib/python3.11/site-packages (from jupyterlab->-r requirements.txt (line 12)) (0.2.3)\n",
      "Requirement already satisfied: tornado>=6.2.0 in /usr/local/lib/python3.11/site-packages (from jupyterlab->-r requirements.txt (line 12)) (6.4)\n",
      "Requirement already satisfied: beautifulsoup4>=4.10 in /usr/local/lib/python3.11/site-packages (from libpysal->-r requirements.txt (line 13)) (4.12.3)\n",
      "Requirement already satisfied: platformdirs>=2.0.2 in /usr/local/lib/python3.11/site-packages (from libpysal->-r requirements.txt (line 13)) (4.1.0)\n",
      "Requirement already satisfied: scipy>=1.8 in /usr/local/lib/python3.11/site-packages (from libpysal->-r requirements.txt (line 13)) (1.12.0)\n",
      "Requirement already satisfied: scikit-learn>=1.1 in /usr/local/lib/python3.11/site-packages (from libpysal->-r requirements.txt (line 13)) (1.4.0)\n",
      "Requirement already satisfied: et-xmlfile in /home/sveta/.local/lib/python3.11/site-packages (from openpyxl->-r requirements.txt (line 15)) (2.0.0)\n",
      "Requirement already satisfied: mizani~=0.11.0 in /home/sveta/.local/lib/python3.11/site-packages (from plotnine->-r requirements.txt (line 17)) (0.11.4)\n",
      "Requirement already satisfied: statsmodels>=0.14.0 in /usr/local/lib/python3.11/site-packages (from plotnine->-r requirements.txt (line 17)) (0.14.1)\n",
      "Requirement already satisfied: dill in /home/sveta/.local/lib/python3.11/site-packages (from patchworklib->-r requirements.txt (line 18)) (0.3.9)\n",
      "Requirement already satisfied: seaborn in /usr/local/lib/python3.11/site-packages (from patchworklib->-r requirements.txt (line 18)) (0.13.2)\n",
      "Requirement already satisfied: soupsieve>1.2 in /usr/local/lib/python3.11/site-packages (from beautifulsoup4>=4.10->libpysal->-r requirements.txt (line 13)) (2.5)\n",
      "Requirement already satisfied: decorator in /usr/local/lib/python3.11/site-packages (from ipython<9->ipympl->-r requirements.txt (line 10)) (5.1.1)\n",
      "Requirement already satisfied: jedi>=0.16 in /usr/local/lib/python3.11/site-packages (from ipython<9->ipympl->-r requirements.txt (line 10)) (0.19.1)\n",
      "Requirement already satisfied: matplotlib-inline in /usr/local/lib/python3.11/site-packages (from ipython<9->ipympl->-r requirements.txt (line 10)) (0.1.6)\n",
      "Requirement already satisfied: prompt-toolkit<3.1.0,>=3.0.41 in /usr/local/lib/python3.11/site-packages (from ipython<9->ipympl->-r requirements.txt (line 10)) (3.0.43)\n",
      "Requirement already satisfied: pygments>=2.4.0 in /usr/local/lib/python3.11/site-packages (from ipython<9->ipympl->-r requirements.txt (line 10)) (2.17.2)\n",
      "Requirement already satisfied: stack-data in /usr/local/lib/python3.11/site-packages (from ipython<9->ipympl->-r requirements.txt (line 10)) (0.6.3)\n",
      "Requirement already satisfied: pexpect>4.3 in /usr/local/lib/python3.11/site-packages (from ipython<9->ipympl->-r requirements.txt (line 10)) (4.9.0)\n",
      "Requirement already satisfied: MarkupSafe>=2.0 in /usr/local/lib/python3.11/site-packages (from jinja2>=3.0.3->jupyterlab->-r requirements.txt (line 12)) (2.1.4)\n",
      "Requirement already satisfied: anyio>=3.1.0 in /usr/local/lib/python3.11/site-packages (from jupyter-server<3,>=2.4.0->jupyterlab->-r requirements.txt (line 12)) (4.2.0)\n",
      "Requirement already satisfied: argon2-cffi in /usr/local/lib/python3.11/site-packages (from jupyter-server<3,>=2.4.0->jupyterlab->-r requirements.txt (line 12)) (23.1.0)\n",
      "Requirement already satisfied: jupyter-client>=7.4.4 in /usr/local/lib/python3.11/site-packages (from jupyter-server<3,>=2.4.0->jupyterlab->-r requirements.txt (line 12)) (8.6.0)\n",
      "Requirement already satisfied: jupyter-events>=0.9.0 in /usr/local/lib/python3.11/site-packages (from jupyter-server<3,>=2.4.0->jupyterlab->-r requirements.txt (line 12)) (0.9.0)\n",
      "Requirement already satisfied: jupyter-server-terminals in /usr/local/lib/python3.11/site-packages (from jupyter-server<3,>=2.4.0->jupyterlab->-r requirements.txt (line 12)) (0.5.2)\n",
      "Requirement already satisfied: nbconvert>=6.4.4 in /usr/local/lib/python3.11/site-packages (from jupyter-server<3,>=2.4.0->jupyterlab->-r requirements.txt (line 12)) (7.14.2)\n",
      "Requirement already satisfied: nbformat>=5.3.0 in /usr/local/lib/python3.11/site-packages (from jupyter-server<3,>=2.4.0->jupyterlab->-r requirements.txt (line 12)) (5.9.2)\n",
      "Requirement already satisfied: overrides in /usr/local/lib/python3.11/site-packages (from jupyter-server<3,>=2.4.0->jupyterlab->-r requirements.txt (line 12)) (7.7.0)\n",
      "Requirement already satisfied: prometheus-client in /usr/local/lib/python3.11/site-packages (from jupyter-server<3,>=2.4.0->jupyterlab->-r requirements.txt (line 12)) (0.19.0)\n",
      "Requirement already satisfied: pyzmq>=24 in /usr/local/lib/python3.11/site-packages (from jupyter-server<3,>=2.4.0->jupyterlab->-r requirements.txt (line 12)) (25.1.2)\n",
      "Requirement already satisfied: send2trash>=1.8.2 in /usr/local/lib/python3.11/site-packages (from jupyter-server<3,>=2.4.0->jupyterlab->-r requirements.txt (line 12)) (1.8.2)\n",
      "Requirement already satisfied: terminado>=0.8.3 in /usr/local/lib/python3.11/site-packages (from jupyter-server<3,>=2.4.0->jupyterlab->-r requirements.txt (line 12)) (0.18.0)\n",
      "Requirement already satisfied: websocket-client in /usr/local/lib/python3.11/site-packages (from jupyter-server<3,>=2.4.0->jupyterlab->-r requirements.txt (line 12)) (1.7.0)\n",
      "Requirement already satisfied: babel>=2.10 in /usr/local/lib/python3.11/site-packages (from jupyterlab-server<3,>=2.19.0->jupyterlab->-r requirements.txt (line 12)) (2.14.0)\n",
      "Requirement already satisfied: json5>=0.9.0 in /usr/local/lib/python3.11/site-packages (from jupyterlab-server<3,>=2.19.0->jupyterlab->-r requirements.txt (line 12)) (0.9.14)\n",
      "Requirement already satisfied: jsonschema>=4.18.0 in /usr/local/lib/python3.11/site-packages (from jupyterlab-server<3,>=2.19.0->jupyterlab->-r requirements.txt (line 12)) (4.21.1)\n",
      "Requirement already satisfied: six>=1.5 in /usr/local/lib/python3.11/site-packages (from python-dateutil>=2.8.2->pandas->-r requirements.txt (line 4)) (1.16.0)\n",
      "Requirement already satisfied: threadpoolctl>=2.0.0 in /usr/local/lib/python3.11/site-packages (from scikit-learn>=1.1->libpysal->-r requirements.txt (line 13)) (3.2.0)\n",
      "Requirement already satisfied: patsy>=0.5.4 in /usr/local/lib/python3.11/site-packages (from statsmodels>=0.14.0->plotnine->-r requirements.txt (line 17)) (0.5.6)\n",
      "Requirement already satisfied: geographiclib<3,>=1.52 in /home/sveta/.local/lib/python3.11/site-packages (from geopy->contextily->-r requirements.txt (line 8)) (2.0)\n",
      "Requirement already satisfied: debugpy>=1.6.5 in /usr/local/lib/python3.11/site-packages (from ipykernel->jupyterlab->-r requirements.txt (line 12)) (1.8.0)\n",
      "Requirement already satisfied: nest-asyncio in /usr/local/lib/python3.11/site-packages (from ipykernel->jupyterlab->-r requirements.txt (line 12)) (1.6.0)\n",
      "Requirement already satisfied: psutil in /usr/local/lib/python3.11/site-packages (from ipykernel->jupyterlab->-r requirements.txt (line 12)) (5.9.8)\n",
      "Requirement already satisfied: click>=3.0 in /home/sveta/.local/lib/python3.11/site-packages (from mercantile->contextily->-r requirements.txt (line 8)) (8.1.7)\n",
      "Requirement already satisfied: affine in /home/sveta/.local/lib/python3.11/site-packages (from rasterio->contextily->-r requirements.txt (line 8)) (2.4.0)\n",
      "Requirement already satisfied: attrs in /usr/local/lib/python3.11/site-packages (from rasterio->contextily->-r requirements.txt (line 8)) (23.2.0)\n",
      "Requirement already satisfied: cligj>=0.5 in /home/sveta/.local/lib/python3.11/site-packages (from rasterio->contextily->-r requirements.txt (line 8)) (0.7.2)\n",
      "Requirement already satisfied: click-plugins in /home/sveta/.local/lib/python3.11/site-packages (from rasterio->contextily->-r requirements.txt (line 8)) (1.1.1)\n",
      "Requirement already satisfied: sniffio>=1.1 in /usr/local/lib/python3.11/site-packages (from anyio>=3.1.0->jupyter-server<3,>=2.4.0->jupyterlab->-r requirements.txt (line 12)) (1.3.0)\n",
      "Requirement already satisfied: parso<0.9.0,>=0.8.3 in /usr/local/lib/python3.11/site-packages (from jedi>=0.16->ipython<9->ipympl->-r requirements.txt (line 10)) (0.8.3)\n",
      "Requirement already satisfied: jsonschema-specifications>=2023.03.6 in /usr/local/lib/python3.11/site-packages (from jsonschema>=4.18.0->jupyterlab-server<3,>=2.19.0->jupyterlab->-r requirements.txt (line 12)) (2023.12.1)\n",
      "Requirement already satisfied: referencing>=0.28.4 in /usr/local/lib/python3.11/site-packages (from jsonschema>=4.18.0->jupyterlab-server<3,>=2.19.0->jupyterlab->-r requirements.txt (line 12)) (0.33.0)\n",
      "Requirement already satisfied: rpds-py>=0.7.1 in /usr/local/lib/python3.11/site-packages (from jsonschema>=4.18.0->jupyterlab-server<3,>=2.19.0->jupyterlab->-r requirements.txt (line 12)) (0.17.1)\n",
      "Requirement already satisfied: python-json-logger>=2.0.4 in /usr/local/lib/python3.11/site-packages (from jupyter-events>=0.9.0->jupyter-server<3,>=2.4.0->jupyterlab->-r requirements.txt (line 12)) (2.0.7)\n",
      "Requirement already satisfied: pyyaml>=5.3 in /usr/local/lib/python3.11/site-packages (from jupyter-events>=0.9.0->jupyter-server<3,>=2.4.0->jupyterlab->-r requirements.txt (line 12)) (6.0.1)\n",
      "Requirement already satisfied: rfc3339-validator in /usr/local/lib/python3.11/site-packages (from jupyter-events>=0.9.0->jupyter-server<3,>=2.4.0->jupyterlab->-r requirements.txt (line 12)) (0.1.4)\n",
      "Requirement already satisfied: rfc3986-validator>=0.1.1 in /usr/local/lib/python3.11/site-packages (from jupyter-events>=0.9.0->jupyter-server<3,>=2.4.0->jupyterlab->-r requirements.txt (line 12)) (0.1.1)\n",
      "Requirement already satisfied: bleach!=5.0.0 in /usr/local/lib/python3.11/site-packages (from nbconvert>=6.4.4->jupyter-server<3,>=2.4.0->jupyterlab->-r requirements.txt (line 12)) (6.1.0)\n",
      "Requirement already satisfied: defusedxml in /usr/local/lib/python3.11/site-packages (from nbconvert>=6.4.4->jupyter-server<3,>=2.4.0->jupyterlab->-r requirements.txt (line 12)) (0.7.1)\n",
      "Requirement already satisfied: jupyterlab-pygments in /usr/local/lib/python3.11/site-packages (from nbconvert>=6.4.4->jupyter-server<3,>=2.4.0->jupyterlab->-r requirements.txt (line 12)) (0.3.0)\n",
      "Requirement already satisfied: mistune<4,>=2.0.3 in /usr/local/lib/python3.11/site-packages (from nbconvert>=6.4.4->jupyter-server<3,>=2.4.0->jupyterlab->-r requirements.txt (line 12)) (3.0.2)\n",
      "Requirement already satisfied: nbclient>=0.5.0 in /usr/local/lib/python3.11/site-packages (from nbconvert>=6.4.4->jupyter-server<3,>=2.4.0->jupyterlab->-r requirements.txt (line 12)) (0.9.0)\n",
      "Requirement already satisfied: pandocfilters>=1.4.1 in /usr/local/lib/python3.11/site-packages (from nbconvert>=6.4.4->jupyter-server<3,>=2.4.0->jupyterlab->-r requirements.txt (line 12)) (1.5.1)\n",
      "Requirement already satisfied: tinycss2 in /usr/local/lib/python3.11/site-packages (from nbconvert>=6.4.4->jupyter-server<3,>=2.4.0->jupyterlab->-r requirements.txt (line 12)) (1.2.1)\n",
      "Requirement already satisfied: fastjsonschema in /usr/local/lib/python3.11/site-packages (from nbformat>=5.3.0->jupyter-server<3,>=2.4.0->jupyterlab->-r requirements.txt (line 12)) (2.19.1)\n",
      "Requirement already satisfied: ptyprocess>=0.5 in /usr/local/lib/python3.11/site-packages (from pexpect>4.3->ipython<9->ipympl->-r requirements.txt (line 10)) (0.7.0)\n",
      "Requirement already satisfied: wcwidth in /usr/local/lib/python3.11/site-packages (from prompt-toolkit<3.1.0,>=3.0.41->ipython<9->ipympl->-r requirements.txt (line 10)) (0.2.13)\n",
      "Requirement already satisfied: argon2-cffi-bindings in /usr/local/lib/python3.11/site-packages (from argon2-cffi->jupyter-server<3,>=2.4.0->jupyterlab->-r requirements.txt (line 12)) (21.2.0)\n",
      "Requirement already satisfied: executing>=1.2.0 in /usr/local/lib/python3.11/site-packages (from stack-data->ipython<9->ipympl->-r requirements.txt (line 10)) (2.0.1)\n",
      "Requirement already satisfied: asttokens>=2.1.0 in /usr/local/lib/python3.11/site-packages (from stack-data->ipython<9->ipympl->-r requirements.txt (line 10)) (2.4.1)\n",
      "Requirement already satisfied: pure-eval in /usr/local/lib/python3.11/site-packages (from stack-data->ipython<9->ipympl->-r requirements.txt (line 10)) (0.2.2)\n",
      "Requirement already satisfied: webencodings in /usr/local/lib/python3.11/site-packages (from bleach!=5.0.0->nbconvert>=6.4.4->jupyter-server<3,>=2.4.0->jupyterlab->-r requirements.txt (line 12)) (0.5.1)\n",
      "Requirement already satisfied: fqdn in /usr/local/lib/python3.11/site-packages (from jsonschema>=4.18.0->jupyterlab-server<3,>=2.19.0->jupyterlab->-r requirements.txt (line 12)) (1.5.1)\n",
      "Requirement already satisfied: isoduration in /usr/local/lib/python3.11/site-packages (from jsonschema>=4.18.0->jupyterlab-server<3,>=2.19.0->jupyterlab->-r requirements.txt (line 12)) (20.11.0)\n",
      "Requirement already satisfied: jsonpointer>1.13 in /usr/local/lib/python3.11/site-packages (from jsonschema>=4.18.0->jupyterlab-server<3,>=2.19.0->jupyterlab->-r requirements.txt (line 12)) (2.4)\n",
      "Requirement already satisfied: uri-template in /usr/local/lib/python3.11/site-packages (from jsonschema>=4.18.0->jupyterlab-server<3,>=2.19.0->jupyterlab->-r requirements.txt (line 12)) (1.3.0)\n",
      "Requirement already satisfied: webcolors>=1.11 in /usr/local/lib/python3.11/site-packages (from jsonschema>=4.18.0->jupyterlab-server<3,>=2.19.0->jupyterlab->-r requirements.txt (line 12)) (1.13)\n",
      "Requirement already satisfied: cffi>=1.0.1 in /usr/local/lib/python3.11/site-packages (from argon2-cffi-bindings->argon2-cffi->jupyter-server<3,>=2.4.0->jupyterlab->-r requirements.txt (line 12)) (1.16.0)\n",
      "Requirement already satisfied: pycparser in /usr/local/lib/python3.11/site-packages (from cffi>=1.0.1->argon2-cffi-bindings->argon2-cffi->jupyter-server<3,>=2.4.0->jupyterlab->-r requirements.txt (line 12)) (2.21)\n",
      "Requirement already satisfied: arrow>=0.15.0 in /usr/local/lib/python3.11/site-packages (from isoduration->jsonschema>=4.18.0->jupyterlab-server<3,>=2.19.0->jupyterlab->-r requirements.txt (line 12)) (1.3.0)\n",
      "Requirement already satisfied: types-python-dateutil>=2.8.10 in /usr/local/lib/python3.11/site-packages (from arrow>=0.15.0->isoduration->jsonschema>=4.18.0->jupyterlab-server<3,>=2.19.0->jupyterlab->-r requirements.txt (line 12)) (2.8.19.20240106)\n",
      "\n",
      "\u001b[1m[\u001b[0m\u001b[34;49mnotice\u001b[0m\u001b[1;39;49m]\u001b[0m\u001b[39;49m A new release of pip is available: \u001b[0m\u001b[31;49m23.2.1\u001b[0m\u001b[39;49m -> \u001b[0m\u001b[32;49m24.3.1\u001b[0m\n",
      "\u001b[1m[\u001b[0m\u001b[34;49mnotice\u001b[0m\u001b[1;39;49m]\u001b[0m\u001b[39;49m To update, run: \u001b[0m\u001b[32;49mpip3.11 install --upgrade pip\u001b[0m\n",
      "Note: you may need to restart the kernel to use updated packages.\n"
     ]
    }
   ],
   "source": [
    "%pip install -r requirements.txt"
   ]
  },
  {
   "cell_type": "code",
   "execution_count": 2,
   "metadata": {},
   "outputs": [
    {
     "data": {
      "text/plain": [
       "polars.config.Config"
      ]
     },
     "execution_count": 2,
     "metadata": {},
     "output_type": "execute_result"
    }
   ],
   "source": [
    "import geopandas as gpd\n",
    "import pandas as pd\n",
    "import matplotlib.pyplot as plt\n",
    "import osm2geojson\n",
    "import json\n",
    "import polars as pl\n",
    "import pyarrow\n",
    "import contextily as cx\n",
    "import os\n",
    "from local_functions import *\n",
    "\n",
    "pl.Config.set_tbl_rows(200)\n",
    "pl.Config.set_fmt_float(\"full\")"
   ]
  },
  {
   "cell_type": "code",
   "execution_count": 3,
   "metadata": {},
   "outputs": [],
   "source": [
    "territory_population_full = (\n",
    "    pd.read_csv(\"data/Iedzīvotāju skaits.csv\", sep=\";\", encoding=\"utf-8\", na_values=[\"…\"])\n",
    "    .rename(columns={\"Laika periods\": \"Gads\"})\n",
    ")\n",
    "territory_population_full[\"Teritoriālā vienība\"] = territory_population_full[\"Teritoriālā vienība\"].str.replace(\" novads\", \" nov.\")\n",
    "\n",
    "def get_territory_population(year):\n",
    "    return (\n",
    "        territory_population_full[territory_population_full[\"Gads\"] == year]\n",
    "        .drop(\"Gads\", axis=1)\n",
    "    )"
   ]
  },
  {
   "cell_type": "code",
   "execution_count": 4,
   "metadata": {},
   "outputs": [],
   "source": [
    "territory_population_salary_full = (\n",
    "    pd.read_csv(\"data/RIG110_Mēneša darba samaksa.csv\", sep=\";\", encoding=\"utf-8\")\n",
    "    .drop(\"Bruto/ Neto\", axis=1)\n",
    "    .rename(columns={\"Visas teritorijas\": \"Teritoriālā vienība\", \"Laika periods\": \"Gads\"})\n",
    ")\n",
    "territory_population_salary_full[\"Teritoriālā vienība\"] = territory_population_salary_full[\"Teritoriālā vienība\"].str.slice(10).str.replace(\" novads\", \" nov.\")\n",
    "\n",
    "def get_territory_population_salary(year):\n",
    "    return (\n",
    "        territory_population_salary_full[territory_population_salary_full[\"Gads\"] == year]\n",
    "        .drop(\"Gads\", axis=1)\n",
    "    )"
   ]
  },
  {
   "cell_type": "code",
   "execution_count": 5,
   "metadata": {},
   "outputs": [],
   "source": [
    "territory_workable_population_full = (\n",
    "    pd.read_csv(\"data/IRD081_Iedzīvotāji pēc dzimuma un vecuma grupām.csv\", sep=\";\", encoding=\"utf-8\")\n",
    "    .drop([\"Dzimums\", \"Vecuma grupa\"], axis=1)\n",
    "    .rename(columns={\"Laika periods\": \"Gads\"})\n",
    ")\n",
    "territory_workable_population_full[\"Teritoriālā vienība\"] = territory_workable_population_full[\"Teritoriālā vienība\"].str.slice(10).str.replace(\" novads\", \" nov.\")\n",
    "\n",
    "\n",
    "def get_territory_workable_population(year):\n",
    "    return (\n",
    "        territory_workable_population_full[territory_workable_population_full[\"Gads\"] == year]\n",
    "        .drop(\"Gads\", axis=1)\n",
    "    )"
   ]
  },
  {
   "cell_type": "code",
   "execution_count": 6,
   "metadata": {},
   "outputs": [],
   "source": [
    "territory_population_with_higher_education_full = (\n",
    "    pd.read_csv(\"data/RIG070_iedzīvotāju īpatsvars ar augstāko izglītību.csv\", sep=\";\", encoding=\"utf-8\")\n",
    "    .rename(columns={\"Laika periods\": \"Gads\", \"Visas teritorijas\": \"Teritoriālā vienība\"})\n",
    ")\n",
    "\n",
    "territory_population_with_higher_education_full[\"Teritoriālā vienība\"] = territory_population_with_higher_education_full[\"Teritoriālā vienība\"].str.slice(10).str.replace(\" novads\", \" nov.\")\n",
    "\n",
    "def get_higher_education_proportion(year):\n",
    "    return (\n",
    "        territory_population_with_higher_education_full[territory_population_with_higher_education_full[\"Gads\"] == year]\n",
    "        .drop(\"Gads\", axis=1)\n",
    "    )"
   ]
  },
  {
   "cell_type": "code",
   "execution_count": 7,
   "metadata": {},
   "outputs": [],
   "source": [
    "gdp_full = (\n",
    "    pd.read_csv(\"data/IKR061_Iekšzemes kopprodukts un bruto pievienotā vērtība.csv\", sep=\";\", encoding=\"utf-8\")\n",
    "    .rename(columns={\"Laika periods\": \"Gads\"})\n",
    ")\n",
    "gdp_full[\"Teritoriālā vienība\"] = gdp_full[\"Teritoriālā vienība\"].str.replace(\" novads\", \" nov.\")\n",
    "\n",
    "def get_gdp(year):\n",
    "    return (\n",
    "        gdp_full[gdp_full[\"Gads\"] == year]\n",
    "        .drop(\"Gads\", axis=1)\n",
    "    )"
   ]
  },
  {
   "cell_type": "code",
   "execution_count": 8,
   "metadata": {},
   "outputs": [],
   "source": [
    "territory_population_economic_activity_full = (\n",
    "    pd.read_csv(\"data/EKA140_Ekonomiskās aktivitātes, nodarbinātības un bezdarba līmenis.csv\", sep=\";\", encoding=\"utf-8\")\n",
    "    .rename(columns={\"Laika periods\": \"Gads\"})\n",
    "    .drop([\"Dzimums\", \"Vecums\"], axis=1)\n",
    ")\n",
    "territory_population_economic_activity_full[\"Teritoriālā vienība\"] = territory_population_economic_activity_full[\"Teritoriālā vienība\"].str.replace(\" novads\", \" nov.\")\n",
    "\n",
    "def get_territory_population_economic_activity(year):\n",
    "    return (\n",
    "        territory_population_economic_activity_full[territory_population_economic_activity_full[\"Gads\"] == year]\n",
    "        .drop(\"Gads\", axis=1)\n",
    "    )"
   ]
  },
  {
   "cell_type": "code",
   "execution_count": 9,
   "metadata": {},
   "outputs": [],
   "source": [
    "territory_companies_full = (\n",
    "    pd.read_csv(\"data/UZS041_Tirgus sektora ekonomiski aktīvi uzņēmumi reģionos.csv\", sep=\";\", encoding=\"utf-8\")\n",
    "    .rename(columns={\"Laika periods\": \"Gads\"})\n",
    ")\n",
    "\n",
    "territory_companies_full[\"Teritoriālā vienība\"] = territory_companies_full[\"Teritoriālā vienība\"].str.replace(\" novads\", \" nov.\")\n",
    "\n",
    "\n",
    "def get_territory_companies(year):\n",
    "    return (\n",
    "        territory_companies_full[territory_companies_full[\"Gads\"] == year]\n",
    "        .drop(\"Gads\", axis=1)\n",
    "    )"
   ]
  },
  {
   "cell_type": "code",
   "execution_count": 10,
   "metadata": {},
   "outputs": [],
   "source": [
    "product_value_full = (\n",
    "    pd.read_csv(\"data/Radītā pievienotā un produkcijas vērtība.csv\", sep=\";\", encoding=\"utf-8\")\n",
    "    .rename(columns={\"Laika periods\": \"Gads\"})\n",
    ")\n",
    "\n",
    "product_value_full[\"Teritoriālā vienība\"] = product_value_full[\"Teritoriālā vienība\"].str.slice(10).str.replace(\" novads\", \" nov.\")\n",
    "\n",
    "def get_product_value(year):\n",
    "    return (\n",
    "        product_value_full[product_value_full[\"Gads\"] == year]\n",
    "        .drop(\"Gads\", axis=1)\n",
    "    )"
   ]
  },
  {
   "cell_type": "code",
   "execution_count": 11,
   "metadata": {},
   "outputs": [],
   "source": [
    "territory_water_usage_full = (\n",
    "    pd.read_csv(\"data/DRU020_Ūdens izmantošana.csv\", sep=\";\", encoding=\"utf-8\")\n",
    "    .rename(columns={\"Laika periods\": \"Gads\", \"Rādītāji\": \"Teritoriālā vienība\"})\n",
    ")\n",
    "\n",
    "territory_water_usage_full[\"Teritoriālā vienība\"] = territory_water_usage_full[\"Teritoriālā vienība\"].str.replace(\" novads\", \" nov.\")\n",
    "\n",
    "def get_territory_water_usage(year):\n",
    "    return (\n",
    "        territory_water_usage_full[territory_water_usage_full[\"Gads\"] == year]\n",
    "        .drop(\"Gads\", axis=1)\n",
    "    )"
   ]
  },
  {
   "cell_type": "code",
   "execution_count": 12,
   "metadata": {},
   "outputs": [],
   "source": [
    "territory_road_financing_full = (\n",
    "    pd.read_csv(\"data/TRI011_ceļu un ielu finansēšanas līdzekļu izmantošana.csv\", sep=\";\", encoding=\"utf-8\", na_values=[\"-\"])\n",
    "    .rename(columns={\"Laika periods\": \"Gads\"})\n",
    ")\n",
    "\n",
    "territory_road_financing_full[\"Teritoriālā vienība\"] = territory_road_financing_full[\"Teritoriālā vienība\"].str.replace(\" novads\", \" nov.\")\n",
    "\n",
    "def get_territory_road_financing(year):\n",
    "    return (\n",
    "        territory_road_financing_full[territory_road_financing_full[\"Gads\"] == year]\n",
    "        .drop(\"Gads\", axis=1)\n",
    "    )"
   ]
  },
  {
   "cell_type": "code",
   "execution_count": 13,
   "metadata": {},
   "outputs": [],
   "source": [
    "road_length_full = (\n",
    "    pd.read_csv(\"data/TRS020_autoceļu un pašvaldību ielu garums.csv\", sep=\";\", encoding=\"utf-8\")\n",
    "    .rename(columns={\"Laika periods\": \"Gads\"})\n",
    ")\n",
    "\n",
    "road_length_full[\"Teritoriālā vienība\"] = road_length_full[\"Teritoriālā vienība\"].str.replace(\" novads\", \" nov.\")\n",
    "\n",
    "def get_road_length(year):\n",
    "    return (\n",
    "        road_length_full[road_length_full[\"Gads\"] == year]\n",
    "        .drop(\"Gads\", axis=1)\n",
    "    )"
   ]
  },
  {
   "cell_type": "code",
   "execution_count": 14,
   "metadata": {},
   "outputs": [],
   "source": [
    "social_spending_full = (\n",
    "    pd.read_csv(\"data/PPS060_izdevumi sociālā atbalsta.csv\", sep=\";\", encoding=\"utf-8\")\n",
    "    .rename(columns={\"Laika periods\": \"Gads\"})\n",
    ")\n",
    "\n",
    "social_spending_full[\"Teritoriālā vienība\"] = social_spending_full[\"Teritoriālā vienība\"].str.replace(\" novads\", \" nov.\")\n",
    "\n",
    "def get_social_spending(year):\n",
    "    return (\n",
    "        social_spending_full[social_spending_full[\"Gads\"] == year]\n",
    "        .drop(\"Gads\", axis=1)\n",
    "    )"
   ]
  },
  {
   "cell_type": "code",
   "execution_count": 15,
   "metadata": {},
   "outputs": [],
   "source": [
    "new_apartment_area_full = (\n",
    "    pd.read_csv(\"data/BUE0211_Ekspluatācijā pieņemto jauno dzīvokļu platība reģionos.csv\", sep=\";\", encoding=\"utf-8\", na_values=[\"-\"])\n",
    "    .rename(columns={\"Laika periods\": \"Gads\"})\n",
    ")\n",
    "\n",
    "new_apartment_area_full[\"Teritoriālā vienība\"] = new_apartment_area_full[\"Teritoriālā vienība\"].str.replace(\" novads\", \" nov.\")\n",
    "\n",
    "def get_new_apartment_area(year):\n",
    "    return (\n",
    "        new_apartment_area_full[new_apartment_area_full[\"Gads\"] == year]\n",
    "        .drop(\"Gads\", axis=1)\n",
    "    )"
   ]
  },
  {
   "cell_type": "code",
   "execution_count": 16,
   "metadata": {},
   "outputs": [],
   "source": [
    "functional_classifier = pl.read_excel(\"data/pasvaldibu_izdevumu_funkcionala_klasifikacija.xlsx\")\n",
    "\n",
    "def get_region_government_expenses(year):\n",
    "    if os.path.exists(f\"data/pasvaldibu_{year}_izdevumi.xlsx\"):\n",
    "        file_exists = True\n",
    "        file_path = f\"data/pasvaldibu_{year}_izdevumi.xlsx\"\n",
    "    else:\n",
    "        file_exists = False\n",
    "        file_path = \"data/pasvaldibu_2023_izdevumi.xlsx\"\n",
    "    \n",
    "    return (\n",
    "        pl.read_excel(file_path)\n",
    "        .with_columns(\n",
    "            pl.col(\"Funkcionalas_klasifikacijas_kods\").cast(pl.Float64),\n",
    "            pl.col(\"Pasvaldibas_nosaukums\").str.replace_all(\"-- \", \"\").str.replace_all(\"- \", \"\")\n",
    "        )\n",
    "        .join(\n",
    "            functional_classifier,\n",
    "            how=\"left\",\n",
    "            left_on=\"Funkcionalas_klasifikacijas_kods\",\n",
    "            right_on=\"Kods\"\n",
    "        )\n",
    "        .with_columns(\n",
    "            pl.col(\"Koda nosaukums\").alias(\"Funkcionala_klasifikacija\")\n",
    "        )\n",
    "        .filter(\n",
    "            pl.col(\"Izdevumu_ekonomiskas_klasifikacijas_kods\").is_in([\"1.0.\", \"2.0.\"])\n",
    "        )\n",
    "        .with_columns(\n",
    "            pl.col(\"Izdevumu_ekonomiskas_klasifikacijas_kods\").replace({\"1.0.\": \"Uzturēšanas izdevumi\", \"2.0.\": \"Kapitālie izdevumi\" }).alias(\"Izdevumu_ekonomiska_klasifikacija\")\n",
    "        )\n",
    "        .with_columns(\n",
    "            (\"Pašvaldības izdevumi: \" + pl.col(\"Funkcionala_klasifikacija\") + \" (\" + pl.col(\"Izdevumu_ekonomiska_klasifikacija\") + \")\").alias(\"Izdevumu tips\")\n",
    "        )\n",
    "        .pivot(\n",
    "            on=\"Izdevumu tips\",\n",
    "            index=[\"Pasvaldibas_nosaukums\"],\n",
    "            values=[\"EUR\"],\n",
    "            aggregate_function=\"sum\"\n",
    "        )\n",
    "        .with_columns(\n",
    "            pl.col(\"Pasvaldibas_nosaukums\").str.replace(\" novads\", \" nov.\")\n",
    "        )\n",
    "        .rename({\"Pasvaldibas_nosaukums\": \"Teritoriālā vienība\"})\n",
    "        .filter(\n",
    "            pl.lit(file_exists)\n",
    "        )\n",
    "        .to_pandas()\n",
    "    )"
   ]
  },
  {
   "cell_type": "code",
   "execution_count": 17,
   "metadata": {},
   "outputs": [],
   "source": [
    "income_functional_classifier = pl.read_excel(\"data/pasvaldibu_ienemumu_funkcionala_klasifikacija.xlsx\")"
   ]
  },
  {
   "cell_type": "code",
   "execution_count": 18,
   "metadata": {},
   "outputs": [],
   "source": [
    "def get_region_government_income(year):\n",
    "    if os.path.exists(f\"data/pasvaldibu_{year}_ienemumi.xlsx\"):\n",
    "        file_exists = True\n",
    "        file_path = f\"data/pasvaldibu_{year}_ienemumi.xlsx\"\n",
    "    else:\n",
    "        file_exists = False\n",
    "        file_path = \"data/pasvaldibu_2023_ienemumi.xlsx\"\n",
    "    \n",
    "    return (\n",
    "        pl.read_excel(file_path)\n",
    "        .with_columns(\n",
    "            pl.col(\"Pasvaldibas nosaukums\").str.replace_all(\"-- \", \"\").str.replace_all(\"- \", \"\")\n",
    "        )\n",
    "        .filter(\n",
    "            pl.col(\"Ienemumu_klasifikacijas_kods\").is_in([\"1.1.0.0.\", \"1.2.0.0.\", \"2.1.0.0.\", \"2.2.0.0.\", \"2.5.0.0.\", \"4.1.0.0.\", \"5.1.0.0.\", \"5.2.0.0.\", \"5.3.0.0.\", \"5.4.0.0.\", \"5.5.0.0.\", \"6.0.0.0.\", \"7.2.0.0.\", \"8.0.0.0.\", \"9.0.0.0.\", \"9.3.0.0.\", \"10.0.0.0.\"])\n",
    "        )\n",
    "        .join(\n",
    "            income_functional_classifier,\n",
    "            how=\"left\",\n",
    "            left_on=\"Ienemumu_klasifikacijas_kods\",\n",
    "            right_on=\"Kods\"\n",
    "        )\n",
    "        .with_columns(\n",
    "            (\"Pašvaldības ieņēmumi: \" + pl.col(\"Koda nosaukums un skaidrojums\")).alias(\"Koda nosaukums un skaidrojums\")\n",
    "        )\n",
    "        .pivot(\n",
    "            on=\"Koda nosaukums un skaidrojums\",\n",
    "            index=\"Pasvaldibas nosaukums\",\n",
    "            values=[\"EUR\"],\n",
    "            aggregate_function=\"sum\"\n",
    "        )\n",
    "        .with_columns(\n",
    "            pl.col(\"Pasvaldibas nosaukums\").str.replace(\" novads\", \" nov.\")\n",
    "        )\n",
    "        .rename({\"Pasvaldibas nosaukums\": \"Teritoriālā vienība\"})\n",
    "        .filter(\n",
    "            pl.lit(file_exists)\n",
    "        )\n",
    "        .to_pandas()\n",
    "    )"
   ]
  },
  {
   "cell_type": "code",
   "execution_count": 19,
   "metadata": {},
   "outputs": [],
   "source": [
    "def prepare_residential_details(residential, healthcare, public_transport, schools, shops):\n",
    "    return (\n",
    "        residential\n",
    "        .sjoin_nearest(healthcare, how=\"left\", distance_col=\"Attālums līdz ārstam (m)\")\n",
    "        [[\"Gads_left\", \"id_left\", \"geometry\", \"Daudzdzīvokļu ēka\", \"Savrupmāja\", \"AvgCoef\", \"Attālums līdz ārstam (m)\"]]\n",
    "        .rename(columns={\"Gads_left\":\"Gads\", \"id_left\": \"id\"})\n",
    "        .sjoin_nearest(healthcare[healthcare.amenity == \"hospital\"], how=\"left\", distance_col=\"Attālums līdz slimnīcai (m)\")\n",
    "        [[\"Gads_left\", \"id_left\", \"geometry\", \"Daudzdzīvokļu ēka\", \"Savrupmāja\", \"AvgCoef\", \"Attālums līdz ārstam (m)\", \"Attālums līdz slimnīcai (m)\"]]\n",
    "        .rename(columns={\"Gads_left\":\"Gads\", \"id_left\": \"id\"})\n",
    "        .sjoin_nearest(healthcare[healthcare.amenity == \"clinic\"], how=\"left\", distance_col=\"Attālums līdz poliklīnikai (m)\")\n",
    "        [[\"Gads_left\", \"id_left\", \"geometry\", \"Daudzdzīvokļu ēka\", \"Savrupmāja\", \"AvgCoef\", \"Attālums līdz ārstam (m)\", \"Attālums līdz slimnīcai (m)\", \"Attālums līdz poliklīnikai (m)\"]]\n",
    "        .rename(columns={\"Gads_left\":\"Gads\", \"id_left\": \"id\"})\n",
    "        .sjoin_nearest(public_transport, how=\"left\", distance_col=\"Attālums līdz sabiedriskajam transportam (m)\")\n",
    "        [[\"Gads_left\", \"id_left\", \"geometry\", \"Daudzdzīvokļu ēka\", \"Savrupmāja\", \"AvgCoef\", \"Attālums līdz ārstam (m)\", \"Attālums līdz slimnīcai (m)\", \"Attālums līdz poliklīnikai (m)\", \"Attālums līdz sabiedriskajam transportam (m)\"]]\n",
    "        .rename(columns={\"Gads_left\":\"Gads\", \"id_left\": \"id\"})\n",
    "        .sjoin_nearest(schools[schools.amenity == \"school\"], how=\"left\", distance_col=\"Attālums līdz skolai (m)\")\n",
    "        [[\"Gads_left\", \"id_left\", \"geometry\", \"Daudzdzīvokļu ēka\", \"Savrupmāja\", \"AvgCoef\", \"Attālums līdz ārstam (m)\", \"Attālums līdz slimnīcai (m)\", \"Attālums līdz poliklīnikai (m)\", \"Attālums līdz sabiedriskajam transportam (m)\", \"Attālums līdz skolai (m)\"]]\n",
    "        .rename(columns={\"Gads_left\":\"Gads\", \"id_left\": \"id\"})\n",
    "        .sjoin_nearest(schools[schools.amenity == \"kindergarten\"], how=\"left\", distance_col=\"Attālums līdz bērnudārzam (m)\")\n",
    "        [[\"Gads_left\", \"id_left\", \"geometry\", \"Daudzdzīvokļu ēka\", \"Savrupmāja\", \"AvgCoef\", \"Attālums līdz ārstam (m)\", \"Attālums līdz slimnīcai (m)\", \"Attālums līdz poliklīnikai (m)\", \"Attālums līdz sabiedriskajam transportam (m)\", \"Attālums līdz skolai (m)\", \"Attālums līdz bērnudārzam (m)\"]]\n",
    "        .rename(columns={\"Gads_left\":\"Gads\", \"id_left\": \"id\"})\n",
    "        .sjoin_nearest(shops, how=\"left\", distance_col=\"Attālums līdz veikalam (m)\")\n",
    "        [[\"Gads_left\", \"id_left\", \"geometry\", \"Daudzdzīvokļu ēka\", \"Savrupmāja\", \"AvgCoef\", \"Attālums līdz ārstam (m)\", \"Attālums līdz slimnīcai (m)\", \"Attālums līdz poliklīnikai (m)\", \"Attālums līdz sabiedriskajam transportam (m)\", \"Attālums līdz skolai (m)\", \"Attālums līdz bērnudārzam (m)\", \"Attālums līdz veikalam (m)\"]]\n",
    "        .rename(columns={\"Gads_left\":\"Gads\", \"id_left\": \"id\"})\n",
    "    )"
   ]
  },
  {
   "cell_type": "code",
   "execution_count": 20,
   "metadata": {},
   "outputs": [],
   "source": [
    "def prepare_territory_residential(territory, residential_details):\n",
    "    return (\n",
    "        pl.from_pandas(\n",
    "            territories\n",
    "            .sjoin(residential_details, how=\"left\", predicate=\"contains\")\n",
    "            .drop([\"geometry\"], axis=1)\n",
    "        )\n",
    "        .group_by(\"Teritoriālā vienība\")\n",
    "        .agg(\n",
    "            pl.col(\"Daudzdzīvokļu ēka\").sum().alias(\"Daudzdzīvokļu ēku skaits\"),\n",
    "            pl.col(\"Savrupmāja\").sum().alias(\"Savrupmāju skaits\"),\n",
    "            ((pl.col(\"Attālums līdz ārstam (m)\") * pl.col(\"AvgCoef\")).sum() / pl.col(\"AvgCoef\").sum()).alias(\"Vidējais attālums līdz ārstam (m)\"),\n",
    "            ((pl.col(\"Attālums līdz slimnīcai (m)\") * pl.col(\"AvgCoef\")).sum() / pl.col(\"AvgCoef\").sum()).alias(\"Vidējais attālums līdz slimnīcai (m)\"),\n",
    "            ((pl.col(\"Attālums līdz poliklīnikai (m)\") * pl.col(\"AvgCoef\")).sum() / pl.col(\"AvgCoef\").sum()).alias(\"Vidējais attālums līdz poliklīnikai (m)\"),\n",
    "            ((pl.col(\"Attālums līdz sabiedriskajam transportam (m)\") * pl.col(\"AvgCoef\")).sum() / pl.col(\"AvgCoef\").sum()).alias(\"Vidējais attālums līdz sabiedriskajam transportam (m)\"),\n",
    "            ((pl.col(\"Attālums līdz skolai (m)\") * pl.col(\"AvgCoef\")).sum() / pl.col(\"AvgCoef\").sum()).alias(\"Vidējais attālums līdz skolai (m)\"),\n",
    "            ((pl.col(\"Attālums līdz bērnudārzam (m)\") * pl.col(\"AvgCoef\")).sum() / pl.col(\"AvgCoef\").sum()).alias(\"Vidējais attālums līdz bērnudārzam (m)\"),\n",
    "            ((pl.col(\"Attālums līdz veikalam (m)\") * pl.col(\"AvgCoef\")).sum() / pl.col(\"AvgCoef\").sum()).alias(\"Vidējais attālums līdz veikalam (m)\"),\n",
    "        )\n",
    "        .to_pandas()\n",
    "    )"
   ]
  },
  {
   "cell_type": "code",
   "execution_count": 21,
   "metadata": {},
   "outputs": [],
   "source": [
    "def prepare_territory_healthcare(territories, healthcare):\n",
    "    return (\n",
    "        pl.from_pandas(\n",
    "            territories\n",
    "            .sjoin(healthcare, how=\"left\", predicate=\"contains\")\n",
    "            .drop(\"geometry\", axis=1)\n",
    "        )\n",
    "        .group_by(\"Teritoriālā vienība\")\n",
    "        .agg(\n",
    "            pl.col(\"Slimnīca\").sum().alias(\"Slimnīcu skaits\"),\n",
    "            pl.col(\"Poliklīnika\").sum().alias(\"Poliklīniku skaits\"),\n",
    "            pl.col(\"Ārsta prakse\").sum().alias(\"Ārstu prakses skaits\")\n",
    "        )\n",
    "        .to_pandas()\n",
    "    )"
   ]
  },
  {
   "cell_type": "code",
   "execution_count": 22,
   "metadata": {},
   "outputs": [],
   "source": [
    "def prepare_territory_schools(territories, schools):\n",
    "    return (\n",
    "        pl.from_pandas(\n",
    "            territories\n",
    "            .sjoin(schools, how=\"left\", predicate=\"contains\")\n",
    "            .drop(\"geometry\", axis=1)\n",
    "        )\n",
    "        .group_by(\"Teritoriālā vienība\")\n",
    "        .agg(\n",
    "            pl.col(\"Bērnudārzs\").sum().alias(\"Bērnudārzu skaits\"),\n",
    "            pl.col(\"Skola\").sum().alias(\"Skolu skaits\"),\n",
    "        )\n",
    "        .to_pandas()\n",
    "    )"
   ]
  },
  {
   "cell_type": "code",
   "execution_count": 23,
   "metadata": {},
   "outputs": [],
   "source": [
    "def prepare_territory_public_transports(territories, public_transport):\n",
    "    return (\n",
    "        pl.from_pandas(\n",
    "            territories\n",
    "            .sjoin(public_transport, how=\"left\", predicate=\"contains\")\n",
    "            .drop(\"geometry\", axis=1)\n",
    "        )\n",
    "        .group_by(\"Teritoriālā vienība\")\n",
    "        .agg(\n",
    "            pl.col(\"Teritoriālā vienība\").count().alias(\"Sabiedriskā transporta pieturu skaits\")\n",
    "        )\n",
    "        .to_pandas()\n",
    "    )"
   ]
  },
  {
   "cell_type": "code",
   "execution_count": 24,
   "metadata": {},
   "outputs": [],
   "source": [
    "def prepare_territory_shops(territories, shops):\n",
    "    return (\n",
    "        pl.from_pandas(\n",
    "            territories\n",
    "            .sjoin(shops, how=\"left\", predicate=\"contains\")\n",
    "            .drop(\"geometry\", axis=1)\n",
    "        )\n",
    "        .group_by(\"Teritoriālā vienība\")\n",
    "        .agg(\n",
    "            ((pl.col(\"shop\") == \"convenience\").sum() + (pl.col(\"shop\") == \"general\").sum()).alias(\"Veikalu skaits\"),\n",
    "            (pl.col(\"shop\") == \"mall\").sum().alias(\"Tirdzniecības centru skaits\"),\n",
    "        )\n",
    "        .to_pandas()\n",
    "    )"
   ]
  },
  {
   "cell_type": "code",
   "execution_count": 25,
   "metadata": {},
   "outputs": [
    {
     "name": "stderr",
     "output_type": "stream",
     "text": [
      "Skipping field nodes: unsupported OGR type: 13\n"
     ]
    },
    {
     "name": "stdout",
     "output_type": "stream",
     "text": [
      "Processing: 2014\n"
     ]
    },
    {
     "name": "stderr",
     "output_type": "stream",
     "text": [
      "Skipping field nodes: unsupported OGR type: 13\n",
      "Skipping field nodes: unsupported OGR type: 13\n",
      "Skipping field nodes: unsupported OGR type: 13\n",
      "Skipping field nodes: unsupported OGR type: 13\n"
     ]
    },
    {
     "name": "stdout",
     "output_type": "stream",
     "text": [
      "Processing: 2015\n"
     ]
    },
    {
     "name": "stderr",
     "output_type": "stream",
     "text": [
      "Skipping field nodes: unsupported OGR type: 13\n",
      "Skipping field nodes: unsupported OGR type: 13\n",
      "Skipping field nodes: unsupported OGR type: 13\n",
      "Skipping field nodes: unsupported OGR type: 13\n",
      "Skipping field nodes: unsupported OGR type: 13\n"
     ]
    },
    {
     "name": "stdout",
     "output_type": "stream",
     "text": [
      "Processing: 2016\n"
     ]
    },
    {
     "name": "stderr",
     "output_type": "stream",
     "text": [
      "Skipping field nodes: unsupported OGR type: 13\n",
      "Skipping field nodes: unsupported OGR type: 13\n",
      "Skipping field nodes: unsupported OGR type: 13\n",
      "Skipping field nodes: unsupported OGR type: 13\n",
      "Skipping field nodes: unsupported OGR type: 13\n"
     ]
    },
    {
     "name": "stdout",
     "output_type": "stream",
     "text": [
      "Processing: 2017\n"
     ]
    },
    {
     "name": "stderr",
     "output_type": "stream",
     "text": [
      "Skipping field nodes: unsupported OGR type: 13\n",
      "Skipping field nodes: unsupported OGR type: 13\n",
      "Skipping field nodes: unsupported OGR type: 13\n",
      "Skipping field nodes: unsupported OGR type: 13\n",
      "Skipping field nodes: unsupported OGR type: 13\n"
     ]
    },
    {
     "name": "stdout",
     "output_type": "stream",
     "text": [
      "Processing: 2018\n"
     ]
    },
    {
     "name": "stderr",
     "output_type": "stream",
     "text": [
      "Skipping field nodes: unsupported OGR type: 13\n",
      "Skipping field nodes: unsupported OGR type: 13\n",
      "Skipping field nodes: unsupported OGR type: 13\n",
      "Skipping field nodes: unsupported OGR type: 13\n",
      "Skipping field nodes: unsupported OGR type: 13\n"
     ]
    },
    {
     "name": "stdout",
     "output_type": "stream",
     "text": [
      "Processing: 2019\n"
     ]
    },
    {
     "name": "stderr",
     "output_type": "stream",
     "text": [
      "Skipping field nodes: unsupported OGR type: 13\n",
      "Skipping field nodes: unsupported OGR type: 13\n",
      "Skipping field nodes: unsupported OGR type: 13\n",
      "Skipping field nodes: unsupported OGR type: 13\n",
      "Skipping field nodes: unsupported OGR type: 13\n"
     ]
    },
    {
     "name": "stdout",
     "output_type": "stream",
     "text": [
      "Processing: 2020\n"
     ]
    },
    {
     "name": "stderr",
     "output_type": "stream",
     "text": [
      "Skipping field nodes: unsupported OGR type: 13\n",
      "Skipping field nodes: unsupported OGR type: 13\n",
      "Skipping field nodes: unsupported OGR type: 13\n",
      "Skipping field nodes: unsupported OGR type: 13\n",
      "Skipping field nodes: unsupported OGR type: 13\n",
      "Skipping field nodes: unsupported OGR type: 13\n"
     ]
    },
    {
     "name": "stdout",
     "output_type": "stream",
     "text": [
      "Processing: 2021\n"
     ]
    },
    {
     "name": "stderr",
     "output_type": "stream",
     "text": [
      "Skipping field nodes: unsupported OGR type: 13\n",
      "Skipping field nodes: unsupported OGR type: 13\n",
      "Skipping field nodes: unsupported OGR type: 13\n",
      "Skipping field nodes: unsupported OGR type: 13\n"
     ]
    },
    {
     "name": "stdout",
     "output_type": "stream",
     "text": [
      "Processing: 2022\n"
     ]
    },
    {
     "name": "stderr",
     "output_type": "stream",
     "text": [
      "Skipping field nodes: unsupported OGR type: 13\n",
      "Skipping field nodes: unsupported OGR type: 13\n",
      "Skipping field nodes: unsupported OGR type: 13\n",
      "Skipping field nodes: unsupported OGR type: 13\n",
      "Skipping field nodes: unsupported OGR type: 13\n"
     ]
    },
    {
     "name": "stdout",
     "output_type": "stream",
     "text": [
      "Processing: 2023\n"
     ]
    },
    {
     "name": "stderr",
     "output_type": "stream",
     "text": [
      "Skipping field nodes: unsupported OGR type: 13\n",
      "Skipping field nodes: unsupported OGR type: 13\n",
      "Skipping field nodes: unsupported OGR type: 13\n",
      "Skipping field nodes: unsupported OGR type: 13\n",
      "Skipping field nodes: unsupported OGR type: 13\n"
     ]
    },
    {
     "name": "stdout",
     "output_type": "stream",
     "text": [
      "Processing: 2024\n"
     ]
    },
    {
     "name": "stderr",
     "output_type": "stream",
     "text": [
      "Skipping field nodes: unsupported OGR type: 13\n",
      "Skipping field nodes: unsupported OGR type: 13\n",
      "Skipping field nodes: unsupported OGR type: 13\n",
      "Skipping field nodes: unsupported OGR type: 13\n",
      "Skipping field nodes: unsupported OGR type: 13\n"
     ]
    }
   ],
   "source": [
    "results = []\n",
    "years = list(range(2014, 2025))\n",
    "\n",
    "for year in years:\n",
    "    print(f\"Processing: {year}\")\n",
    "    territory = territories.copy()\n",
    "    territory[\"Gads\"] = year\n",
    "    population = get_territory_population(year) \n",
    "    population_salary = get_territory_population_salary(year)\n",
    "    workable_population = get_territory_workable_population(year)\n",
    "    territory_population_economic_activity = get_territory_population_economic_activity(year)\n",
    "    territory_companies = get_territory_companies(year)\n",
    "    water_usage = get_territory_water_usage(year)\n",
    "    new_apartment_area = get_new_apartment_area(year)\n",
    "    higher_education_proportion = get_higher_education_proportion(year)\n",
    "    road_financing = get_territory_road_financing(year)\n",
    "    social_spending = get_social_spending(year)\n",
    "    road_length = get_road_length(year)\n",
    "    gdp = get_gdp(year)\n",
    "    residential = get_residential(year)\n",
    "    healthcare = get_healthcare(year)\n",
    "    public_transport = get_public_transport(year)\n",
    "    schools = get_schools(year)\n",
    "    shops = get_shops(year)\n",
    "    product_value = get_product_value(year)\n",
    "\n",
    "    gov_expenses = get_region_government_expenses(year)\n",
    "    gov_income = get_region_government_income(year)\n",
    "\n",
    "    residential_details = prepare_residential_details(residential, healthcare, public_transport, schools, shops)\n",
    "    residential_details.to_file(f\"./data/transformed/residential_details_{year}.geojson\", driver=\"GeoJSON\")\n",
    "    territory_residential = prepare_territory_residential(territory, residential_details)\n",
    "    territory_healthcare = prepare_territory_healthcare(territory, healthcare)\n",
    "    territory_schools = prepare_territory_schools(territory, schools)\n",
    "    territory_public_transports = prepare_territory_public_transports(territory, public_transport)\n",
    "    territory_shops = prepare_territory_shops(territory, shops)\n",
    "\n",
    "    territory_result = (\n",
    "        territory\n",
    "        .merge(population, on=[\"Teritoriālā vienība\"], how=\"left\")\n",
    "        .merge(population_salary, on=[\"Teritoriālā vienība\"], how=\"left\")\n",
    "        .merge(workable_population, on=[\"Teritoriālā vienība\"], how=\"left\")\n",
    "        .merge(gov_expenses, on=[\"Teritoriālā vienība\"], how=\"left\")\n",
    "        .merge(gov_income, on=[\"Teritoriālā vienība\"], how=\"left\")\n",
    "        .merge(territory_population_economic_activity, on=[\"Teritoriālā vienība\"], how=\"left\")\n",
    "        .merge(territory_companies, on=[\"Teritoriālā vienība\"], how=\"left\")\n",
    "        .merge(new_apartment_area, on=[\"Teritoriālā vienība\"], how=\"left\")\n",
    "        .merge(social_spending, on=[\"Teritoriālā vienība\"], how=\"left\")\n",
    "        .merge(road_financing, on=[\"Teritoriālā vienība\"], how=\"left\")\n",
    "        .merge(water_usage, on=[\"Teritoriālā vienība\"], how=\"left\")\n",
    "        .merge(road_length, on=[\"Teritoriālā vienība\"], how=\"left\")\n",
    "        .merge(higher_education_proportion, on=[\"Teritoriālā vienība\"], how=\"left\")\n",
    "        .merge(gdp, on=[\"Teritoriālā vienība\"], how=\"left\")\n",
    "        .merge(product_value, on=[\"Teritoriālā vienība\"], how=\"left\")\n",
    "        .merge(territory_residential, on=[\"Teritoriālā vienība\"], how=\"left\")\n",
    "        .merge(territory_healthcare, on=[\"Teritoriālā vienība\"], how=\"left\")\n",
    "        .merge(territory_schools, on=[\"Teritoriālā vienība\"], how=\"left\")\n",
    "        .merge(territory_public_transports, on=[\"Teritoriālā vienība\"], how=\"left\")\n",
    "        .merge(territory_shops, on=[\"Teritoriālā vienība\"], how=\"left\")\n",
    "    )\n",
    "\n",
    "    results.append(territory_result)"
   ]
  },
  {
   "cell_type": "code",
   "execution_count": 26,
   "metadata": {},
   "outputs": [],
   "source": [
    "territorial_information = pd.concat(results)"
   ]
  },
  {
   "cell_type": "code",
   "execution_count": 27,
   "metadata": {},
   "outputs": [
    {
     "name": "stdout",
     "output_type": "stream",
     "text": [
      "Teritoriālā vienība\n",
      "Platība (km^2)\n",
      "geometry\n",
      "Gads\n",
      "Iedzīvotāju skaits gada sākumā\n",
      "Gada vidējais iedzīvotāju skaits\n",
      "Iedzīvotāju dabiskais pieaugums\n",
      "Migrācijas saldo\n",
      "Iedzīvotāju skaita izmaiņas - pavisam\n",
      "Mēneša darba samaksas mediāna\n",
      "Iedzīvotāji darbspējas vecumā\n",
      "Pašvaldības izdevumi: Vispārējie valdības dienesti (Uzturēšanas izdevumi)\n",
      "Pašvaldības izdevumi: Vispārējie valdības dienesti (Kapitālie izdevumi)\n",
      "Pašvaldības izdevumi: Sabiedriskā kārtība un drošība (Uzturēšanas izdevumi)\n",
      "Pašvaldības izdevumi: Sabiedriskā kārtība un drošība (Kapitālie izdevumi)\n",
      "Pašvaldības izdevumi: Ekonomiskā darbība (Uzturēšanas izdevumi)\n",
      "Pašvaldības izdevumi: Teritoriju un mājokļu apsaimniekošana (Uzturēšanas izdevumi)\n",
      "Pašvaldības izdevumi: Teritoriju un mājokļu apsaimniekošana (Kapitālie izdevumi)\n",
      "Pašvaldības izdevumi: Atpūta, kultūra un reliģija (Uzturēšanas izdevumi)\n",
      "Pašvaldības izdevumi: Atpūta, kultūra un reliģija (Kapitālie izdevumi)\n",
      "Pašvaldības izdevumi: Izglītība (Uzturēšanas izdevumi)\n",
      "Pašvaldības izdevumi: Izglītība (Kapitālie izdevumi)\n",
      "Pašvaldības izdevumi: Sociālā aizsardzība (Uzturēšanas izdevumi)\n",
      "Pašvaldības izdevumi: Sociālā aizsardzība (Kapitālie izdevumi)\n",
      "Pašvaldības izdevumi: Aizsardzība (Uzturēšanas izdevumi)\n",
      "Pašvaldības izdevumi: Ekonomiskā darbība (Kapitālie izdevumi)\n",
      "Pašvaldības izdevumi: Vides aizsardzība (Uzturēšanas izdevumi)\n",
      "Pašvaldības izdevumi: Vides aizsardzība (Kapitālie izdevumi)\n",
      "Pašvaldības izdevumi: Veselība (Uzturēšanas izdevumi)\n",
      "Pašvaldības izdevumi: Veselība (Kapitālie izdevumi)\n",
      "Pašvaldības izdevumi: Aizsardzība (Kapitālie izdevumi)\n",
      "Pašvaldības ieņēmumi: NAUDAS SODI UN SANKCIJAS\n",
      "Pašvaldības ieņēmumi: Ieņēmumi no iedzīvotāju ienākuma nodokļa\n",
      "Pašvaldības ieņēmumi: Nekustamā īpašuma nodoklis\n",
      "Pašvaldības ieņēmumi: Nodokļi atsevišķām precēm un pakalpojumu veidiem\n",
      "Pašvaldības ieņēmumi: Nodokļi un maksājumi par tiesībām lietot atsevišķas preces\n",
      "Pašvaldības ieņēmumi: VALSTS (PAŠVALDĪBU) NODEVAS UN KANCELEJAS NODEVAS\n",
      "Pašvaldības ieņēmumi: IEŅĒMUMI NO UZŅĒMĒJDARBĪBAS UN ĪPAŠUMA\n",
      "Ekonomiskās aktivitātes līmenis\n",
      "Nodarbinātības līmenis\n",
      "Bezdarba līmenis\n",
      "Ekonomiski aktīvi uzņēmumi (uz 1000 iedz.)\n",
      "Ekspluatācijā pieņemto dzīvokļu platība (tūkst. m2)\n",
      "Izdevumi sociālā atbalsta pasākumiem\n",
      "Ceļu un ielu izdevumi (investīcijas)\n",
      "Ceļu un ielu izdevumi (uzturēšana)\n",
      "Ūdens izmantošana ražošanas vajadzībām (tūkst. m3)\n",
      "Ūdens izmantošana komunālajām un sadzīves vajadzībām (tūkst. m3)\n",
      "Autoceļu un pašvaldību ielu garums (asfaltbetons)\n",
      "Autoceļu un pašvaldību ielu garums (šķembu)\n",
      "Iedzīvotāju īpatsvars ar augstāko izglītību\n",
      "Bruto pievienotā vērtība uz vienu iedzīvotāju\n",
      "Iekšzemes kopprodukts uz vienu iedzīvotāju\n",
      "Produkcijas vērtība (EUR)\n",
      "Pievienotā vērtība (EUR)\n",
      "Daudzdzīvokļu ēku skaits\n",
      "Savrupmāju skaits\n",
      "Vidējais attālums līdz ārstam (m)\n",
      "Vidējais attālums līdz slimnīcai (m)\n",
      "Vidējais attālums līdz poliklīnikai (m)\n",
      "Vidējais attālums līdz sabiedriskajam transportam (m)\n",
      "Vidējais attālums līdz skolai (m)\n",
      "Vidējais attālums līdz bērnudārzam (m)\n",
      "Vidējais attālums līdz veikalam (m)\n",
      "Slimnīcu skaits\n",
      "Poliklīniku skaits\n",
      "Ārstu prakses skaits\n",
      "Bērnudārzu skaits\n",
      "Skolu skaits\n",
      "Sabiedriskā transporta pieturu skaits\n",
      "Veikalu skaits\n",
      "Tirdzniecības centru skaits\n"
     ]
    }
   ],
   "source": [
    "for m in territorial_information.columns:\n",
    "    print(m)"
   ]
  },
  {
   "cell_type": "code",
   "execution_count": 28,
   "metadata": {},
   "outputs": [],
   "source": [
    "starting_columns = list(territorial_information.columns)\n",
    "starting_columns.remove('Teritoriālā vienība')\n",
    "starting_columns.remove('Gads')\n",
    "starting_columns.remove('geometry')\n",
    "\n",
    "derived_measures = (\n",
    "    pl.from_dataframe(territorial_information.loc[:, territorial_information.columns != 'geometry'])\n",
    "    .with_columns(\n",
    "        (pl.lit(1.) * pl.col(\"Iedzīvotāji darbspējas vecumā\") / pl.col(\"Iedzīvotāju skaits gada sākumā\")).alias(\"Iedzīvotāji darbspējas vecumā (%)\"),\n",
    "        (1. * pl.col(\"Migrācijas saldo\") / pl.col(\"Iedzīvotāju skaits gada sākumā\")).alias(\"Migrācijas saldo (%)\"),\n",
    "        (1. * pl.col(\"Iedzīvotāju skaita izmaiņas - pavisam\") / pl.col(\"Iedzīvotāju skaits gada sākumā\")).alias(\"Iedzīvotāju skaita izmaiņas - pavisam (%)\"),\n",
    "        *[\n",
    "            (pl.lit(1.) * pl.col(m) / pl.col(\"Iedzīvotāju skaits gada sākumā\") * 1000).alias(f\"{m} (uz 1000 iedz.)\")\n",
    "            for m in [\n",
    "                \"Slimnīcu skaits\",\n",
    "                \"Poliklīniku skaits\",\n",
    "                \"Ārstu prakses skaits\",\n",
    "                \"Bērnudārzu skaits\",\n",
    "                \"Skolu skaits\",\n",
    "                \"Sabiedriskā transporta pieturu skaits\",\n",
    "                \"Veikalu skaits\",\n",
    "                \"Tirdzniecības centru skaits\"\n",
    "            ]\n",
    "        ],\n",
    "        *[\n",
    "            (pl.lit(1.) * pl.col(m) / pl.col(\"Iedzīvotāju skaits gada sākumā\") ).alias(f\"{m} (uz 1 iedz.)\")\n",
    "            for m in [\n",
    "                \"Ekspluatācijā pieņemto dzīvokļu platība (tūkst. m2)\",\n",
    "                \"Migrācijas saldo\",\n",
    "                \"Ceļu un ielu izdevumi (investīcijas)\",\n",
    "                \"Ceļu un ielu izdevumi (uzturēšana)\",\n",
    "                \"Izdevumi sociālā atbalsta pasākumiem\",\n",
    "                \"Autoceļu un pašvaldību ielu garums (asfaltbetons)\",\n",
    "                \"Pašvaldības izdevumi: Vispārējie valdības dienesti (Uzturēšanas izdevumi)\",\n",
    "                \"Pašvaldības izdevumi: Vispārējie valdības dienesti (Kapitālie izdevumi)\",\n",
    "                \"Pašvaldības izdevumi: Sabiedriskā kārtība un drošība (Uzturēšanas izdevumi)\",\n",
    "                \"Pašvaldības izdevumi: Sabiedriskā kārtība un drošība (Kapitālie izdevumi)\",\n",
    "                \"Pašvaldības izdevumi: Ekonomiskā darbība (Uzturēšanas izdevumi)\",\n",
    "                \"Pašvaldības izdevumi: Teritoriju un mājokļu apsaimniekošana (Uzturēšanas izdevumi)\",\n",
    "                \"Pašvaldības izdevumi: Teritoriju un mājokļu apsaimniekošana (Kapitālie izdevumi)\",\n",
    "                \"Pašvaldības izdevumi: Atpūta, kultūra un reliģija (Uzturēšanas izdevumi)\",\n",
    "                \"Pašvaldības izdevumi: Atpūta, kultūra un reliģija (Kapitālie izdevumi)\",\n",
    "                \"Pašvaldības izdevumi: Izglītība (Uzturēšanas izdevumi)\",\n",
    "                \"Pašvaldības izdevumi: Izglītība (Kapitālie izdevumi)\",\n",
    "                \"Pašvaldības izdevumi: Sociālā aizsardzība (Uzturēšanas izdevumi)\",\n",
    "                \"Pašvaldības izdevumi: Sociālā aizsardzība (Kapitālie izdevumi)\",\n",
    "                \"Pašvaldības izdevumi: Aizsardzība (Uzturēšanas izdevumi)\",\n",
    "                \"Pašvaldības izdevumi: Ekonomiskā darbība (Kapitālie izdevumi)\",\n",
    "                \"Pašvaldības izdevumi: Vides aizsardzība (Uzturēšanas izdevumi)\",\n",
    "                \"Pašvaldības izdevumi: Vides aizsardzība (Kapitālie izdevumi)\",\n",
    "                \"Pašvaldības izdevumi: Veselība (Uzturēšanas izdevumi)\",\n",
    "                \"Pašvaldības izdevumi: Veselība (Kapitālie izdevumi)\",\n",
    "                \"Pašvaldības izdevumi: Aizsardzība (Kapitālie izdevumi)\",\n",
    "                \"Pašvaldības ieņēmumi: NAUDAS SODI UN SANKCIJAS\",\n",
    "                \"Pašvaldības ieņēmumi: Ieņēmumi no iedzīvotāju ienākuma nodokļa\",\n",
    "                \"Pašvaldības ieņēmumi: Nekustamā īpašuma nodoklis\",\n",
    "                \"Pašvaldības ieņēmumi: Nodokļi atsevišķām precēm un pakalpojumu veidiem\",\n",
    "                \"Pašvaldības ieņēmumi: Nodokļi un maksājumi par tiesībām lietot atsevišķas preces\",\n",
    "                \"Pašvaldības ieņēmumi: VALSTS (PAŠVALDĪBU) NODEVAS UN KANCELEJAS NODEVAS\",\n",
    "                \"Pašvaldības ieņēmumi: IEŅĒMUMI NO UZŅĒMĒJDARBĪBAS UN ĪPAŠUMA\",\n",
    "                \"Produkcijas vērtība (EUR)\",\n",
    "                \"Pievienotā vērtība (EUR)\",\n",
    "            ]\n",
    "        ],\n",
    "        *[\n",
    "            (pl.lit(1.) * pl.col(m) / pl.col(\"Platība (km^2)\")).alias(f\"{m} (uz km^2)\")\n",
    "            for m in [\n",
    "                \"Ceļu un ielu izdevumi (investīcijas)\",\n",
    "                \"Ceļu un ielu izdevumi (uzturēšana)\"\n",
    "            ]\n",
    "        ]\n",
    "    )\n",
    "    .drop(starting_columns)\n",
    "    .to_pandas()\n",
    ")"
   ]
  },
  {
   "cell_type": "code",
   "execution_count": 29,
   "metadata": {},
   "outputs": [],
   "source": [
    "territorial_information_full = (\n",
    "    territorial_information\n",
    "    .merge(derived_measures, on=['Teritoriālā vienība', 'Gads'], how=\"left\")\n",
    ")\n",
    "\n",
    "\n"
   ]
  },
  {
   "cell_type": "code",
   "execution_count": 30,
   "metadata": {},
   "outputs": [],
   "source": [
    "territorial_information_full.to_file(\"./data/transformed/territorial_information_summary.geojson\", driver=\"GeoJSON\")"
   ]
  },
  {
   "cell_type": "code",
   "execution_count": null,
   "metadata": {},
   "outputs": [],
   "source": []
  }
 ],
 "metadata": {
  "kernelspec": {
   "display_name": "Python 3 (ipykernel)",
   "language": "python",
   "name": "python3"
  },
  "language_info": {
   "codemirror_mode": {
    "name": "ipython",
    "version": 3
   },
   "file_extension": ".py",
   "mimetype": "text/x-python",
   "name": "python",
   "nbconvert_exporter": "python",
   "pygments_lexer": "ipython3",
   "version": "3.11.7"
  }
 },
 "nbformat": 4,
 "nbformat_minor": 4
}
