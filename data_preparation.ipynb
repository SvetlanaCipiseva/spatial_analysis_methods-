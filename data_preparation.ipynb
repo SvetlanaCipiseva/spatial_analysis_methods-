{
 "cells": [
  {
   "cell_type": "code",
   "execution_count": 57,
   "metadata": {},
   "outputs": [
    {
     "name": "stdout",
     "output_type": "stream",
     "text": [
      "Note: you may need to restart the kernel to use updated packages.\n"
     ]
    },
    {
     "name": "stderr",
     "output_type": "stream",
     "text": [
      "\n",
      "[notice] A new release of pip available: 22.3.1 -> 24.2\n",
      "[notice] To update, run: python.exe -m pip install --upgrade pip\n"
     ]
    },
    {
     "name": "stdout",
     "output_type": "stream",
     "text": [
      "Requirement already satisfied: polars in .\\venv\\lib\\site-packages (1.10.0)\n",
      "Requirement already satisfied: geopandas in .\\venv\\lib\\site-packages (1.0.1)\n",
      "Requirement already satisfied: numpy>=1.22 in .\\venv\\lib\\site-packages (from geopandas) (2.1.2)\n",
      "Requirement already satisfied: pyogrio>=0.7.2 in .\\venv\\lib\\site-packages (from geopandas) (0.10.0)\n",
      "Requirement already satisfied: packaging in .\\venv\\lib\\site-packages (from geopandas) (24.1)\n",
      "Requirement already satisfied: pandas>=1.4.0 in .\\venv\\lib\\site-packages (from geopandas) (2.2.3)\n",
      "Requirement already satisfied: pyproj>=3.3.0 in .\\venv\\lib\\site-packages (from geopandas) (3.7.0)\n",
      "Requirement already satisfied: shapely>=2.0.0 in .\\venv\\lib\\site-packages (from geopandas) (2.0.6)\n",
      "Requirement already satisfied: python-dateutil>=2.8.2 in .\\venv\\lib\\site-packages (from pandas>=1.4.0->geopandas) (2.9.0.post0)\n",
      "Requirement already satisfied: pytz>=2020.1 in .\\venv\\lib\\site-packages (from pandas>=1.4.0->geopandas) (2024.2)\n",
      "Requirement already satisfied: tzdata>=2022.7 in .\\venv\\lib\\site-packages (from pandas>=1.4.0->geopandas) (2024.2)\n",
      "Requirement already satisfied: certifi in .\\venv\\lib\\site-packages (from pyogrio>=0.7.2->geopandas) (2024.8.30)\n",
      "Requirement already satisfied: six>=1.5 in .\\venv\\lib\\site-packages (from python-dateutil>=2.8.2->pandas>=1.4.0->geopandas) (1.16.0)\n",
      "Note: you may need to restart the kernel to use updated packages.\n"
     ]
    },
    {
     "name": "stderr",
     "output_type": "stream",
     "text": [
      "\n",
      "[notice] A new release of pip available: 22.3.1 -> 24.2\n",
      "[notice] To update, run: python.exe -m pip install --upgrade pip\n"
     ]
    },
    {
     "name": "stdout",
     "output_type": "stream",
     "text": [
      "Requirement already satisfied: matplotlib in .\\venv\\lib\\site-packages (3.9.2)\n",
      "Requirement already satisfied: contourpy>=1.0.1 in .\\venv\\lib\\site-packages (from matplotlib) (1.3.0)\n",
      "Requirement already satisfied: cycler>=0.10 in .\\venv\\lib\\site-packages (from matplotlib) (0.12.1)\n",
      "Requirement already satisfied: fonttools>=4.22.0 in .\\venv\\lib\\site-packages (from matplotlib) (4.54.1)\n",
      "Requirement already satisfied: kiwisolver>=1.3.1 in .\\venv\\lib\\site-packages (from matplotlib) (1.4.7)\n",
      "Requirement already satisfied: numpy>=1.23 in .\\venv\\lib\\site-packages (from matplotlib) (2.1.2)\n",
      "Requirement already satisfied: packaging>=20.0 in .\\venv\\lib\\site-packages (from matplotlib) (24.1)\n",
      "Requirement already satisfied: pillow>=8 in .\\venv\\lib\\site-packages (from matplotlib) (11.0.0)\n",
      "Requirement already satisfied: pyparsing>=2.3.1 in .\\venv\\lib\\site-packages (from matplotlib) (3.2.0)\n",
      "Requirement already satisfied: python-dateutil>=2.7 in .\\venv\\lib\\site-packages (from matplotlib) (2.9.0.post0)\n",
      "Requirement already satisfied: six>=1.5 in .\\venv\\lib\\site-packages (from python-dateutil>=2.7->matplotlib) (1.16.0)\n",
      "Note: you may need to restart the kernel to use updated packages.\n"
     ]
    },
    {
     "name": "stderr",
     "output_type": "stream",
     "text": [
      "\n",
      "[notice] A new release of pip available: 22.3.1 -> 24.2\n",
      "[notice] To update, run: python.exe -m pip install --upgrade pip\n"
     ]
    },
    {
     "name": "stdout",
     "output_type": "stream",
     "text": [
      "Note: you may need to restart the kernel to use updated packages.\n",
      "Collecting folium\n",
      "  Downloading folium-0.17.0-py2.py3-none-any.whl (108 kB)\n",
      "     -------------------------------------- 108.4/108.4 kB 2.1 MB/s eta 0:00:00\n",
      "Requirement already satisfied: matplotlib in .\\venv\\lib\\site-packages (3.9.2)\n",
      "Collecting mapclassify\n",
      "  Downloading mapclassify-2.8.1-py3-none-any.whl (59 kB)\n",
      "     ---------------------------------------- 59.1/59.1 kB 3.3 MB/s eta 0:00:00\n",
      "Collecting branca>=0.6.0\n",
      "  Downloading branca-0.8.0-py3-none-any.whl (25 kB)\n",
      "Collecting jinja2>=2.9\n",
      "  Downloading jinja2-3.1.4-py3-none-any.whl (133 kB)\n",
      "     -------------------------------------- 133.3/133.3 kB 4.0 MB/s eta 0:00:00\n",
      "Requirement already satisfied: numpy in .\\venv\\lib\\site-packages (from folium) (2.1.2)\n",
      "Collecting requests\n",
      "  Downloading requests-2.32.3-py3-none-any.whl (64 kB)\n",
      "     ---------------------------------------- 64.9/64.9 kB ? eta 0:00:00\n",
      "Collecting xyzservices\n",
      "  Downloading xyzservices-2024.9.0-py3-none-any.whl (85 kB)\n",
      "     ---------------------------------------- 85.1/85.1 kB ? eta 0:00:00\n",
      "Requirement already satisfied: contourpy>=1.0.1 in .\\venv\\lib\\site-packages (from matplotlib) (1.3.0)\n",
      "Requirement already satisfied: cycler>=0.10 in .\\venv\\lib\\site-packages (from matplotlib) (0.12.1)\n",
      "Requirement already satisfied: fonttools>=4.22.0 in .\\venv\\lib\\site-packages (from matplotlib) (4.54.1)\n",
      "Requirement already satisfied: kiwisolver>=1.3.1 in .\\venv\\lib\\site-packages (from matplotlib) (1.4.7)\n",
      "Requirement already satisfied: packaging>=20.0 in .\\venv\\lib\\site-packages (from matplotlib) (24.1)\n",
      "Requirement already satisfied: pillow>=8 in .\\venv\\lib\\site-packages (from matplotlib) (11.0.0)\n",
      "Requirement already satisfied: pyparsing>=2.3.1 in .\\venv\\lib\\site-packages (from matplotlib) (3.2.0)\n",
      "Requirement already satisfied: python-dateutil>=2.7 in .\\venv\\lib\\site-packages (from matplotlib) (2.9.0.post0)\n",
      "Collecting networkx>=2.7\n",
      "  Downloading networkx-3.4.2-py3-none-any.whl (1.7 MB)\n",
      "     ---------------------------------------- 1.7/1.7 MB 15.6 MB/s eta 0:00:00\n",
      "Requirement already satisfied: pandas!=1.5.0,>=1.4 in .\\venv\\lib\\site-packages (from mapclassify) (2.2.3)\n",
      "Collecting scikit-learn>=1.0\n",
      "  Downloading scikit_learn-1.5.2-cp311-cp311-win_amd64.whl (11.0 MB)\n",
      "     --------------------------------------- 11.0/11.0 MB 40.9 MB/s eta 0:00:00\n",
      "Collecting scipy>=1.8\n",
      "  Downloading scipy-1.14.1-cp311-cp311-win_amd64.whl (44.8 MB)\n",
      "     --------------------------------------- 44.8/44.8 MB 25.2 MB/s eta 0:00:00\n",
      "Collecting MarkupSafe>=2.0\n",
      "  Downloading MarkupSafe-3.0.2-cp311-cp311-win_amd64.whl (15 kB)\n",
      "Requirement already satisfied: pytz>=2020.1 in .\\venv\\lib\\site-packages (from pandas!=1.5.0,>=1.4->mapclassify) (2024.2)\n",
      "Requirement already satisfied: tzdata>=2022.7 in .\\venv\\lib\\site-packages (from pandas!=1.5.0,>=1.4->mapclassify) (2024.2)\n",
      "Requirement already satisfied: six>=1.5 in .\\venv\\lib\\site-packages (from python-dateutil>=2.7->matplotlib) (1.16.0)\n",
      "Collecting joblib>=1.2.0\n",
      "  Downloading joblib-1.4.2-py3-none-any.whl (301 kB)\n",
      "     ------------------------------------- 301.8/301.8 kB 18.2 MB/s eta 0:00:00\n",
      "Collecting threadpoolctl>=3.1.0\n",
      "  Downloading threadpoolctl-3.5.0-py3-none-any.whl (18 kB)\n",
      "Collecting charset-normalizer<4,>=2\n",
      "  Downloading charset_normalizer-3.4.0-cp311-cp311-win_amd64.whl (101 kB)\n",
      "     ---------------------------------------- 101.8/101.8 kB ? eta 0:00:00\n",
      "Collecting idna<4,>=2.5\n",
      "  Downloading idna-3.10-py3-none-any.whl (70 kB)\n",
      "     ---------------------------------------- 70.4/70.4 kB ? eta 0:00:00\n",
      "Collecting urllib3<3,>=1.21.1\n",
      "  Downloading urllib3-2.2.3-py3-none-any.whl (126 kB)\n",
      "     -------------------------------------- 126.3/126.3 kB 7.3 MB/s eta 0:00:00\n",
      "Requirement already satisfied: certifi>=2017.4.17 in .\\venv\\lib\\site-packages (from requests->folium) (2024.8.30)\n",
      "Installing collected packages: xyzservices, urllib3, threadpoolctl, scipy, networkx, MarkupSafe, joblib, idna, charset-normalizer, scikit-learn, requests, jinja2, mapclassify, branca, folium\n",
      "Successfully installed MarkupSafe-3.0.2 branca-0.8.0 charset-normalizer-3.4.0 folium-0.17.0 idna-3.10 jinja2-3.1.4 joblib-1.4.2 mapclassify-2.8.1 networkx-3.4.2 requests-2.32.3 scikit-learn-1.5.2 scipy-1.14.1 threadpoolctl-3.5.0 urllib3-2.2.3 xyzservices-2024.9.0\n"
     ]
    },
    {
     "name": "stderr",
     "output_type": "stream",
     "text": [
      "\n",
      "[notice] A new release of pip available: 22.3.1 -> 24.2\n",
      "[notice] To update, run: python.exe -m pip install --upgrade pip\n"
     ]
    }
   ],
   "source": [
    "%pip install polars\n",
    "%pip install geopandas\n",
    "%pip install matplotlib\n",
    "%pip install folium matplotlib mapclassify"
   ]
  },
  {
   "cell_type": "code",
   "execution_count": 80,
   "metadata": {},
   "outputs": [
    {
     "data": {
      "text/plain": [
       "polars.config.Config"
      ]
     },
     "execution_count": 80,
     "metadata": {},
     "output_type": "execute_result"
    }
   ],
   "source": [
    "import polars as pl\n",
    "import geopandas as gpd\n",
    "\n",
    "pl.Config.set_tbl_rows(200)"
   ]
  },
  {
   "cell_type": "code",
   "execution_count": 152,
   "metadata": {},
   "outputs": [],
   "source": [
    "metric_dfs = {}"
   ]
  },
  {
   "cell_type": "code",
   "execution_count": 153,
   "metadata": {},
   "outputs": [
    {
     "data": {
      "text/html": [
       "<div><style>\n",
       ".dataframe > thead > tr,\n",
       ".dataframe > tbody > tr {\n",
       "  text-align: right;\n",
       "  white-space: pre-wrap;\n",
       "}\n",
       "</style>\n",
       "<small>shape: (5, 7)</small><table border=\"1\" class=\"dataframe\"><thead><tr><th>Teritoriālā vienība</th><th>Laika periods</th><th>Iedzīvotāju skaits gada sākumā</th><th>Gada vidējais iedzīvotāju skaits</th><th>Iedzīvotāju dabiskais pieaugums</th><th>Migrācijas saldo</th><th>Iedzīvotāju skaita izmaiņas - pavisam</th></tr><tr><td>str</td><td>i64</td><td>i64</td><td>i64</td><td>i64</td><td>i64</td><td>i64</td></tr></thead><tbody><tr><td>&quot;Rīga&quot;</td><td>2012</td><td>636933</td><td>633749</td><td>-2182</td><td>-4186</td><td>-6368</td></tr><tr><td>&quot;Rīga&quot;</td><td>2013</td><td>630565</td><td>631803</td><td>-1972</td><td>4448</td><td>2476</td></tr><tr><td>&quot;Rīga&quot;</td><td>2014</td><td>633041</td><td>632397</td><td>-1472</td><td>185</td><td>-1287</td></tr><tr><td>&quot;Rīga&quot;</td><td>2015</td><td>631754</td><td>631010</td><td>-1243</td><td>-245</td><td>-1488</td></tr><tr><td>&quot;Rīga&quot;</td><td>2016</td><td>630266</td><td>631765</td><td>-1159</td><td>4157</td><td>2998</td></tr></tbody></table></div>"
      ],
      "text/plain": [
       "shape: (5, 7)\n",
       "┌──────────────┬─────────┬──────────────┬──────────────┬──────────────┬──────────────┬─────────────┐\n",
       "│ Teritoriālā  ┆ Laika   ┆ Iedzīvotāju  ┆ Gada         ┆ Iedzīvotāju  ┆ Migrācijas   ┆ Iedzīvotāju │\n",
       "│ vienība      ┆ periods ┆ skaits gada  ┆ vidējais     ┆ dabiskais    ┆ saldo        ┆ skaita      │\n",
       "│ ---          ┆ ---     ┆ sākumā       ┆ iedzīvotāju  ┆ pieaugum…    ┆ ---          ┆ izmaiņas -  │\n",
       "│ str          ┆ i64     ┆ ---          ┆ skai…        ┆ ---          ┆ i64          ┆ …           │\n",
       "│              ┆         ┆ i64          ┆ ---          ┆ i64          ┆              ┆ ---         │\n",
       "│              ┆         ┆              ┆ i64          ┆              ┆              ┆ i64         │\n",
       "╞══════════════╪═════════╪══════════════╪══════════════╪══════════════╪══════════════╪═════════════╡\n",
       "│ Rīga         ┆ 2012    ┆ 636933       ┆ 633749       ┆ -2182        ┆ -4186        ┆ -6368       │\n",
       "│ Rīga         ┆ 2013    ┆ 630565       ┆ 631803       ┆ -1972        ┆ 4448         ┆ 2476        │\n",
       "│ Rīga         ┆ 2014    ┆ 633041       ┆ 632397       ┆ -1472        ┆ 185          ┆ -1287       │\n",
       "│ Rīga         ┆ 2015    ┆ 631754       ┆ 631010       ┆ -1243        ┆ -245         ┆ -1488       │\n",
       "│ Rīga         ┆ 2016    ┆ 630266       ┆ 631765       ┆ -1159        ┆ 4157         ┆ 2998        │\n",
       "└──────────────┴─────────┴──────────────┴──────────────┴──────────────┴──────────────┴─────────────┘"
      ]
     },
     "execution_count": 153,
     "metadata": {},
     "output_type": "execute_result"
    }
   ],
   "source": [
    "metric_dfs[\"population_statistics\"] = (\n",
    "    pl.read_csv(\"https://data.stat.gov.lv:443/sq/23396\", skip_rows=2)\n",
    "    .with_columns(\n",
    "        *[\n",
    "            pl.col(col).replace(\"…\", None).cast(pl.Int64)\n",
    "            for col in [\n",
    "                'Gada vidējais iedzīvotāju skaits',\n",
    "                'Iedzīvotāju dabiskais pieaugums',\n",
    "                'Migrācijas saldo',\n",
    "                'Iedzīvotāju skaita izmaiņas - pavisam'\n",
    "            ]\n",
    "        ]\n",
    "    )\n",
    ")\n",
    "metric_dfs[\"population_statistics\"].head()"
   ]
  },
  {
   "cell_type": "code",
   "execution_count": 154,
   "metadata": {},
   "outputs": [
    {
     "data": {
      "text/html": [
       "<div><style>\n",
       ".dataframe > thead > tr,\n",
       ".dataframe > tbody > tr {\n",
       "  text-align: right;\n",
       "  white-space: pre-wrap;\n",
       "}\n",
       "</style>\n",
       "<small>shape: (5, 4)</small><table border=\"1\" class=\"dataframe\"><thead><tr><th>Teritoriālā vienība</th><th>Laika periods</th><th>Aizņemtās darbvietas Sabiedriskajā sektorā</th><th>Aizņemtās darbvietas Privātajā sektorā</th></tr><tr><td>str</td><td>i64</td><td>i64</td><td>i64</td></tr></thead><tbody><tr><td>&quot;Latvija&quot;</td><td>2022</td><td>284440</td><td>603276</td></tr><tr><td>&quot;Latvija&quot;</td><td>2023</td><td>286922</td><td>599531</td></tr><tr><td>&quot;Rīgas statistiskais reģions (R…</td><td>2022</td><td>148371</td><td>331654</td></tr><tr><td>&quot;Rīgas statistiskais reģions (R…</td><td>2023</td><td>149219</td><td>328070</td></tr><tr><td>&quot;Pierīgas statistiskais reģions…</td><td>2022</td><td>36908</td><td>103289</td></tr></tbody></table></div>"
      ],
      "text/plain": [
       "shape: (5, 4)\n",
       "┌─────────────────────────────────┬───────────────┬──────────────────────┬──────────────────────┐\n",
       "│ Teritoriālā vienība             ┆ Laika periods ┆ Aizņemtās darbvietas ┆ Aizņemtās darbvietas │\n",
       "│ ---                             ┆ ---           ┆ Sabiedris…           ┆ Privātajā…           │\n",
       "│ str                             ┆ i64           ┆ ---                  ┆ ---                  │\n",
       "│                                 ┆               ┆ i64                  ┆ i64                  │\n",
       "╞═════════════════════════════════╪═══════════════╪══════════════════════╪══════════════════════╡\n",
       "│ Latvija                         ┆ 2022          ┆ 284440               ┆ 603276               │\n",
       "│ Latvija                         ┆ 2023          ┆ 286922               ┆ 599531               │\n",
       "│ Rīgas statistiskais reģions (R… ┆ 2022          ┆ 148371               ┆ 331654               │\n",
       "│ Rīgas statistiskais reģions (R… ┆ 2023          ┆ 149219               ┆ 328070               │\n",
       "│ Pierīgas statistiskais reģions… ┆ 2022          ┆ 36908                ┆ 103289               │\n",
       "└─────────────────────────────────┴───────────────┴──────────────────────┴──────────────────────┘"
      ]
     },
     "execution_count": 154,
     "metadata": {},
     "output_type": "execute_result"
    }
   ],
   "source": [
    "metric_dfs[\"work_places\"] = (\n",
    "    pl.read_csv(\"https://data.stat.gov.lv:443/sq/23400\", skip_rows=2)\n",
    "    .select(\n",
    "        pl.col(\"Teritoriālā vienība\"),\n",
    "        pl.col(\"Laika periods\"),\n",
    "        pl.col(\"Sabiedriskajā sektorā Pavisam\").alias(\"Aizņemtās darbvietas Sabiedriskajā sektorā\"),\n",
    "        pl.col(\"Privātajā sektorā Pavisam\").alias(\"Aizņemtās darbvietas Privātajā sektorā\")\n",
    "    )\n",
    ")\n",
    "metric_dfs[\"work_places\"].head(5)"
   ]
  },
  {
   "cell_type": "code",
   "execution_count": 155,
   "metadata": {},
   "outputs": [
    {
     "data": {
      "text/html": [
       "<div><style>\n",
       ".dataframe > thead > tr,\n",
       ".dataframe > tbody > tr {\n",
       "  text-align: right;\n",
       "  white-space: pre-wrap;\n",
       "}\n",
       "</style>\n",
       "<small>shape: (5, 3)</small><table border=\"1\" class=\"dataframe\"><thead><tr><th>Teritoriālā vienība</th><th>Laika periods</th><th>Valsts un pašvaldību autoceļu un pašvaldību ielu garums</th></tr><tr><td>str</td><td>i64</td><td>str</td></tr></thead><tbody><tr><td>&quot;Latvija&quot;</td><td>2021</td><td>&quot;57461&quot;</td></tr><tr><td>&quot;Latvija&quot;</td><td>2022</td><td>&quot;57971&quot;</td></tr><tr><td>&quot;Latvija&quot;</td><td>2023</td><td>&quot;57906&quot;</td></tr><tr><td>&quot;Rīgas statistiskais reģions (R…</td><td>2021</td><td>&quot;1205&quot;</td></tr><tr><td>&quot;Rīgas statistiskais reģions (R…</td><td>2022</td><td>&quot;1205&quot;</td></tr></tbody></table></div>"
      ],
      "text/plain": [
       "shape: (5, 3)\n",
       "┌─────────────────────────────────┬───────────────┬─────────────────────────────────┐\n",
       "│ Teritoriālā vienība             ┆ Laika periods ┆ Valsts un pašvaldību autoceļu … │\n",
       "│ ---                             ┆ ---           ┆ ---                             │\n",
       "│ str                             ┆ i64           ┆ str                             │\n",
       "╞═════════════════════════════════╪═══════════════╪═════════════════════════════════╡\n",
       "│ Latvija                         ┆ 2021          ┆ 57461                           │\n",
       "│ Latvija                         ┆ 2022          ┆ 57971                           │\n",
       "│ Latvija                         ┆ 2023          ┆ 57906                           │\n",
       "│ Rīgas statistiskais reģions (R… ┆ 2021          ┆ 1205                            │\n",
       "│ Rīgas statistiskais reģions (R… ┆ 2022          ┆ 1205                            │\n",
       "└─────────────────────────────────┴───────────────┴─────────────────────────────────┘"
      ]
     },
     "execution_count": 155,
     "metadata": {},
     "output_type": "execute_result"
    }
   ],
   "source": [
    "metric_dfs[\"road_lengths\"] = (\n",
    "    pl.read_csv(\"https://data.stat.gov.lv:443/sq/23402\", skip_rows=2)\n",
    "    .select(\n",
    "        pl.col(\"Teritoriālā vienība\"),\n",
    "        pl.col(\"Laika periods\"),\n",
    "        pl.col(\"Pavisam Pavisam\").alias(\"Valsts un pašvaldību autoceļu un pašvaldību ielu garums\"),\n",
    "    )\n",
    ")\n",
    "metric_dfs[\"road_lengths\"].head(5)"
   ]
  },
  {
   "cell_type": "code",
   "execution_count": 156,
   "metadata": {},
   "outputs": [
    {
     "data": {
      "text/html": [
       "<div><style>\n",
       ".dataframe > thead > tr,\n",
       ".dataframe > tbody > tr {\n",
       "  text-align: right;\n",
       "  white-space: pre-wrap;\n",
       "}\n",
       "</style>\n",
       "<small>shape: (5, 3)</small><table border=\"1\" class=\"dataframe\"><thead><tr><th>Teritoriālā vienība</th><th>Laika periods</th><th>Bioloģiskās lauksaimniecības operatoru sertificētās platības</th></tr><tr><td>str</td><td>i64</td><td>i64</td></tr></thead><tbody><tr><td>&quot;Latvija&quot;</td><td>2019</td><td>289601</td></tr><tr><td>&quot;Latvija&quot;</td><td>2020</td><td>291469</td></tr><tr><td>&quot;Latvija&quot;</td><td>2021</td><td>302177</td></tr><tr><td>&quot;Rīgas statistiskais reģions (n…</td><td>2019</td><td>5521</td></tr><tr><td>&quot;Rīgas statistiskais reģions (n…</td><td>2020</td><td>6060</td></tr></tbody></table></div>"
      ],
      "text/plain": [
       "shape: (5, 3)\n",
       "┌─────────────────────────────────┬───────────────┬─────────────────────────────────┐\n",
       "│ Teritoriālā vienība             ┆ Laika periods ┆ Bioloģiskās lauksaimniecības o… │\n",
       "│ ---                             ┆ ---           ┆ ---                             │\n",
       "│ str                             ┆ i64           ┆ i64                             │\n",
       "╞═════════════════════════════════╪═══════════════╪═════════════════════════════════╡\n",
       "│ Latvija                         ┆ 2019          ┆ 289601                          │\n",
       "│ Latvija                         ┆ 2020          ┆ 291469                          │\n",
       "│ Latvija                         ┆ 2021          ┆ 302177                          │\n",
       "│ Rīgas statistiskais reģions (n… ┆ 2019          ┆ 5521                            │\n",
       "│ Rīgas statistiskais reģions (n… ┆ 2020          ┆ 6060                            │\n",
       "└─────────────────────────────────┴───────────────┴─────────────────────────────────┘"
      ]
     },
     "execution_count": 156,
     "metadata": {},
     "output_type": "execute_result"
    }
   ],
   "source": [
    "metric_dfs[\"farming_land\"] = (\n",
    "    pl.read_csv(\"https://data.stat.gov.lv:443/sq/23403\", skip_rows=2)\n",
    "    .with_columns(\n",
    "        pl.col(\"Teritoriālā vienība\").str.split(\" \").list.first().alias(\"code\"),\n",
    "        pl.col(\"Teritoriālā vienība\").str.split(\" \").list.slice(1).list.join(\" \").alias(\"Teritoriālā vienība\"),\n",
    "    )\n",
    "    .select(\n",
    "        pl.col(\"Teritoriālā vienība\"),\n",
    "        pl.col(\"Laika periods\"),\n",
    "        pl.col(\"Pavisam\").alias(\"Bioloģiskās lauksaimniecības operatoru sertificētās platības\"),\n",
    "    )\n",
    ")\n",
    "metric_dfs[\"farming_land\"].head(5)"
   ]
  },
  {
   "cell_type": "code",
   "execution_count": 157,
   "metadata": {},
   "outputs": [
    {
     "data": {
      "text/html": [
       "<div><style>\n",
       ".dataframe > thead > tr,\n",
       ".dataframe > tbody > tr {\n",
       "  text-align: right;\n",
       "  white-space: pre-wrap;\n",
       "}\n",
       "</style>\n",
       "<small>shape: (5, 3)</small><table border=\"1\" class=\"dataframe\"><thead><tr><th>Teritoriālā vienība</th><th>Laika periods</th><th>Saražotā elektroenerģija no atjaunīgiem energoresursiem</th></tr><tr><td>str</td><td>i64</td><td>f64</td></tr></thead><tbody><tr><td>&quot;Latvija&quot;</td><td>2019</td><td>3191.4</td></tr><tr><td>&quot;Latvija&quot;</td><td>2020</td><td>3648.66</td></tr><tr><td>&quot;Latvija&quot;</td><td>2021</td><td>3716.666</td></tr><tr><td>&quot;Latvija&quot;</td><td>2022</td><td>3764.778</td></tr><tr><td>&quot;Latvija&quot;</td><td>2023</td><td>4846.611</td></tr></tbody></table></div>"
      ],
      "text/plain": [
       "shape: (5, 3)\n",
       "┌─────────────────────┬───────────────┬─────────────────────────────────┐\n",
       "│ Teritoriālā vienība ┆ Laika periods ┆ Saražotā elektroenerģija no at… │\n",
       "│ ---                 ┆ ---           ┆ ---                             │\n",
       "│ str                 ┆ i64           ┆ f64                             │\n",
       "╞═════════════════════╪═══════════════╪═════════════════════════════════╡\n",
       "│ Latvija             ┆ 2019          ┆ 3191.4                          │\n",
       "│ Latvija             ┆ 2020          ┆ 3648.66                         │\n",
       "│ Latvija             ┆ 2021          ┆ 3716.666                        │\n",
       "│ Latvija             ┆ 2022          ┆ 3764.778                        │\n",
       "│ Latvija             ┆ 2023          ┆ 4846.611                        │\n",
       "└─────────────────────┴───────────────┴─────────────────────────────────┘"
      ]
     },
     "execution_count": 157,
     "metadata": {},
     "output_type": "execute_result"
    }
   ],
   "source": [
    "metric_dfs[\"clean_energy\"] = (\n",
    "    pl.read_csv(\"https://data.stat.gov.lv:443/sq/23404\", skip_rows=2)\n",
    "    .with_columns(\n",
    "        pl.col(\"Teritoriālā vienība\").str.split(\" \").list.first().alias(\"code\"),\n",
    "        pl.col(\"Teritoriālā vienība\").str.split(\" \").list.slice(1).list.join(\" \").alias(\"Teritoriālā vienība\"),\n",
    "    )\n",
    "    .select(\n",
    "        pl.col(\"Teritoriālā vienība\"),\n",
    "        pl.col(\"Laika periods\"),\n",
    "        pl.col(\"Pavisam\").alias(\"Saražotā elektroenerģija no atjaunīgiem energoresursiem\"),\n",
    "    )\n",
    ")\n",
    "metric_dfs[\"clean_energy\"].head(5)"
   ]
  },
  {
   "cell_type": "code",
   "execution_count": 158,
   "metadata": {},
   "outputs": [
    {
     "data": {
      "text/html": [
       "<div><style>\n",
       ".dataframe > thead > tr,\n",
       ".dataframe > tbody > tr {\n",
       "  text-align: right;\n",
       "  white-space: pre-wrap;\n",
       "}\n",
       "</style>\n",
       "<small>shape: (5, 16)</small><table border=\"1\" class=\"dataframe\"><thead><tr><th>Teritoriālā vienība</th><th>Laika periods</th><th>Nekustamā īpašuma pirkuma līgumi: Skaits Apbūves tiesība</th><th>Nekustamā īpašuma pirkuma līgumi: Skaits Dzīvokļa īpašums</th><th>Nekustamā īpašuma pirkuma līgumi: Skaits Neapdzīvojamās telpas (garāža, veikals, darbnīca)</th><th>Nekustamā īpašuma pirkuma līgumi: Skaits Patstāvīgs ēkas nekustams īpašums</th><th>Nekustamā īpašuma pirkuma līgumi: Skaits Privatizējamā objekta sākotnējā reģistrācija</th><th>Nekustamā īpašuma pirkuma līgumi: Skaits Zemes nekustams īpašums</th><th>Nekustamā īpašuma pirkuma līgumi: Skaits Zemes un ēkas nekustams īpašums</th><th>Nekustamā īpašuma pirkuma līgumi: Kopējā summa (eiro) Apbūves tiesība</th><th>Nekustamā īpašuma pirkuma līgumi: Kopējā summa (eiro) Dzīvokļa īpašums</th><th>Nekustamā īpašuma pirkuma līgumi: Kopējā summa (eiro) Neapdzīvojamās telpas (garāža, veikals, darbnīca)</th><th>Nekustamā īpašuma pirkuma līgumi: Kopējā summa (eiro) Patstāvīgs ēkas nekustams īpašums</th><th>Nekustamā īpašuma pirkuma līgumi: Kopējā summa (eiro) Privatizējamā objekta sākotnējā reģistrācija</th><th>Nekustamā īpašuma pirkuma līgumi: Kopējā summa (eiro) Zemes nekustams īpašums</th><th>Nekustamā īpašuma pirkuma līgumi: Kopējā summa (eiro) Zemes un ēkas nekustams īpašums</th></tr><tr><td>str</td><td>i64</td><td>i64</td><td>i64</td><td>i64</td><td>i64</td><td>i64</td><td>i64</td><td>i64</td><td>i64</td><td>i64</td><td>i64</td><td>i64</td><td>i64</td><td>i64</td><td>i64</td></tr></thead><tbody><tr><td>&quot;Latvija&quot;</td><td>2021</td><td>12</td><td>22589</td><td>2324</td><td>2197</td><td>1</td><td>21747</td><td>11788</td><td>939121</td><td>997928165</td><td>37510881</td><td>74673809</td><td>5000</td><td>579161333</td><td>832048748</td></tr><tr><td>&quot;Latvija&quot;</td><td>2022</td><td>23</td><td>21969</td><td>2478</td><td>2093</td><td>3</td><td>19370</td><td>10591</td><td>2616156</td><td>1069985340</td><td>36890874</td><td>80867552</td><td>38013</td><td>631083054</td><td>845489335</td></tr><tr><td>&quot;Latvija&quot;</td><td>2023</td><td>26</td><td>20449</td><td>2107</td><td>1857</td><td>4</td><td>16561</td><td>8496</td><td>1493192</td><td>1005166843</td><td>38360968</td><td>69001158</td><td>86700</td><td>565840823</td><td>656289740</td></tr><tr><td>&quot;Rīga&quot;</td><td>2021</td><td>1</td><td>10379</td><td>1715</td><td>437</td><td>null</td><td>3532</td><td>1695</td><td>446700</td><td>679240108</td><td>28753742</td><td>36907017</td><td>null</td><td>165211171</td><td>309928128</td></tr><tr><td>&quot;Rīga&quot;</td><td>2022</td><td>1</td><td>10144</td><td>1899</td><td>451</td><td>null</td><td>3088</td><td>1721</td><td>67500</td><td>719504888</td><td>29539447</td><td>40211523</td><td>null</td><td>178322440</td><td>313393118</td></tr></tbody></table></div>"
      ],
      "text/plain": [
       "shape: (5, 16)\n",
       "┌───────────┬───────────┬───────────┬───────────┬───┬───────────┬───────────┬───────────┬──────────┐\n",
       "│ Teritoriā ┆ Laika     ┆ Nekustamā ┆ Nekustamā ┆ … ┆ Nekustamā ┆ Nekustamā ┆ Nekustamā ┆ Nekustam │\n",
       "│ lā        ┆ periods   ┆ īpašuma   ┆ īpašuma   ┆   ┆ īpašuma   ┆ īpašuma   ┆ īpašuma   ┆ ā        │\n",
       "│ vienība   ┆ ---       ┆ pirkuma   ┆ pirkuma   ┆   ┆ pirkuma   ┆ pirkuma   ┆ pirkuma   ┆ īpašuma  │\n",
       "│ ---       ┆ i64       ┆ līgu…     ┆ līgu…     ┆   ┆ līgu…     ┆ līgu…     ┆ līgu…     ┆ pirkuma  │\n",
       "│ str       ┆           ┆ ---       ┆ ---       ┆   ┆ ---       ┆ ---       ┆ ---       ┆ līgu…    │\n",
       "│           ┆           ┆ i64       ┆ i64       ┆   ┆ i64       ┆ i64       ┆ i64       ┆ ---      │\n",
       "│           ┆           ┆           ┆           ┆   ┆           ┆           ┆           ┆ i64      │\n",
       "╞═══════════╪═══════════╪═══════════╪═══════════╪═══╪═══════════╪═══════════╪═══════════╪══════════╡\n",
       "│ Latvija   ┆ 2021      ┆ 12        ┆ 22589     ┆ … ┆ 74673809  ┆ 5000      ┆ 579161333 ┆ 83204874 │\n",
       "│           ┆           ┆           ┆           ┆   ┆           ┆           ┆           ┆ 8        │\n",
       "│ Latvija   ┆ 2022      ┆ 23        ┆ 21969     ┆ … ┆ 80867552  ┆ 38013     ┆ 631083054 ┆ 84548933 │\n",
       "│           ┆           ┆           ┆           ┆   ┆           ┆           ┆           ┆ 5        │\n",
       "│ Latvija   ┆ 2023      ┆ 26        ┆ 20449     ┆ … ┆ 69001158  ┆ 86700     ┆ 565840823 ┆ 65628974 │\n",
       "│           ┆           ┆           ┆           ┆   ┆           ┆           ┆           ┆ 0        │\n",
       "│ Rīga      ┆ 2021      ┆ 1         ┆ 10379     ┆ … ┆ 36907017  ┆ null      ┆ 165211171 ┆ 30992812 │\n",
       "│           ┆           ┆           ┆           ┆   ┆           ┆           ┆           ┆ 8        │\n",
       "│ Rīga      ┆ 2022      ┆ 1         ┆ 10144     ┆ … ┆ 40211523  ┆ null      ┆ 178322440 ┆ 31339311 │\n",
       "│           ┆           ┆           ┆           ┆   ┆           ┆           ┆           ┆ 8        │\n",
       "└───────────┴───────────┴───────────┴───────────┴───┴───────────┴───────────┴───────────┴──────────┘"
      ]
     },
     "execution_count": 158,
     "metadata": {},
     "output_type": "execute_result"
    }
   ],
   "source": [
    "metric_dfs[\"real_estate_transactions\"] = (\n",
    "    pl.read_csv(\"https://data.stat.gov.lv:443/sq/23405\", skip_rows=2, null_values=[\"…\"])\n",
    "    .select(\n",
    "        pl.col(\"Teritoriālā vienība\"),\n",
    "        pl.col(\"Laika periods\"),\n",
    "        pl.exclude([\"Teritoriālā vienība\", \"Laika periods\"]).name.prefix(\"Nekustamā īpašuma pirkuma līgumi: \")\n",
    "    )\n",
    ")\n",
    "metric_dfs[\"real_estate_transactions\"].head(5)"
   ]
  },
  {
   "cell_type": "code",
   "execution_count": 159,
   "metadata": {},
   "outputs": [
    {
     "data": {
      "text/html": [
       "<div><style>\n",
       ".dataframe > thead > tr,\n",
       ".dataframe > tbody > tr {\n",
       "  text-align: right;\n",
       "  white-space: pre-wrap;\n",
       "}\n",
       "</style>\n",
       "<small>shape: (5, 3)</small><table border=\"1\" class=\"dataframe\"><thead><tr><th>Teritoriālā vienība</th><th>Laika periods</th><th>Mežs Pavisam</th></tr><tr><td>str</td><td>i64</td><td>i64</td></tr></thead><tbody><tr><td>&quot;Latvija&quot;</td><td>2021</td><td>3094212</td></tr><tr><td>&quot;Latvija&quot;</td><td>2022</td><td>3108954</td></tr><tr><td>&quot;Latvija&quot;</td><td>2023</td><td>3121268</td></tr><tr><td>&quot;Rīga&quot;</td><td>2021</td><td>5460</td></tr><tr><td>&quot;Rīga&quot;</td><td>2022</td><td>5455</td></tr></tbody></table></div>"
      ],
      "text/plain": [
       "shape: (5, 3)\n",
       "┌─────────────────────┬───────────────┬──────────────┐\n",
       "│ Teritoriālā vienība ┆ Laika periods ┆ Mežs Pavisam │\n",
       "│ ---                 ┆ ---           ┆ ---          │\n",
       "│ str                 ┆ i64           ┆ i64          │\n",
       "╞═════════════════════╪═══════════════╪══════════════╡\n",
       "│ Latvija             ┆ 2021          ┆ 3094212      │\n",
       "│ Latvija             ┆ 2022          ┆ 3108954      │\n",
       "│ Latvija             ┆ 2023          ┆ 3121268      │\n",
       "│ Rīga                ┆ 2021          ┆ 5460         │\n",
       "│ Rīga                ┆ 2022          ┆ 5455         │\n",
       "└─────────────────────┴───────────────┴──────────────┘"
      ]
     },
     "execution_count": 159,
     "metadata": {},
     "output_type": "execute_result"
    }
   ],
   "source": [
    "metric_dfs[\"forests\"] = (\n",
    "    pl.read_csv(\"https://data.stat.gov.lv:443/sq/23406\", skip_rows = 2)\n",
    ")\n",
    "metric_dfs[\"forests\"].head(5)"
   ]
  },
  {
   "cell_type": "code",
   "execution_count": 160,
   "metadata": {},
   "outputs": [
    {
     "data": {
      "text/html": [
       "<div><style>\n",
       ".dataframe > thead > tr,\n",
       ".dataframe > tbody > tr {\n",
       "  text-align: right;\n",
       "  white-space: pre-wrap;\n",
       "}\n",
       "</style>\n",
       "<small>shape: (5, 5)</small><table border=\"1\" class=\"dataframe\"><thead><tr><th>Teritoriālā vienība</th><th>Laika periods</th><th>Viesnīcas un citas tūristu mītnes: Mītņu skaits (perioda beigās)</th><th>Viesnīcas un citas tūristu mītnes: Gultasvietu skaits (perioda beigās)</th><th>Viesnīcas un citas tūristu mītnes: Apkalpotās personas</th></tr><tr><td>str</td><td>i64</td><td>i64</td><td>i64</td><td>str</td></tr></thead><tbody><tr><td>&quot;Latvija&quot;</td><td>2022</td><td>786</td><td>38481</td><td>&quot;2172069&quot;</td></tr><tr><td>&quot;Latvija&quot;</td><td>2023</td><td>851</td><td>41364</td><td>&quot;2435795&quot;</td></tr><tr><td>&quot;Rīgas statistiskais reģions (R…</td><td>2022</td><td>93</td><td>13359</td><td>&quot;1050121&quot;</td></tr><tr><td>&quot;Rīgas statistiskais reģions (R…</td><td>2023</td><td>104</td><td>14632</td><td>&quot;1244176&quot;</td></tr><tr><td>&quot;Pierīgas statistiskais reģions…</td><td>2022</td><td>186</td><td>9120</td><td>&quot;466306&quot;</td></tr></tbody></table></div>"
      ],
      "text/plain": [
       "shape: (5, 5)\n",
       "┌───────────────┬───────────────┬──────────────────────┬─────────────────────┬─────────────────────┐\n",
       "│ Teritoriālā   ┆ Laika periods ┆ Viesnīcas un citas   ┆ Viesnīcas un citas  ┆ Viesnīcas un citas  │\n",
       "│ vienība       ┆ ---           ┆ tūristu mīt…         ┆ tūristu mīt…        ┆ tūristu mīt…        │\n",
       "│ ---           ┆ i64           ┆ ---                  ┆ ---                 ┆ ---                 │\n",
       "│ str           ┆               ┆ i64                  ┆ i64                 ┆ str                 │\n",
       "╞═══════════════╪═══════════════╪══════════════════════╪═════════════════════╪═════════════════════╡\n",
       "│ Latvija       ┆ 2022          ┆ 786                  ┆ 38481               ┆ 2172069             │\n",
       "│ Latvija       ┆ 2023          ┆ 851                  ┆ 41364               ┆ 2435795             │\n",
       "│ Rīgas         ┆ 2022          ┆ 93                   ┆ 13359               ┆ 1050121             │\n",
       "│ statistiskais ┆               ┆                      ┆                     ┆                     │\n",
       "│ reģions (R…   ┆               ┆                      ┆                     ┆                     │\n",
       "│ Rīgas         ┆ 2023          ┆ 104                  ┆ 14632               ┆ 1244176             │\n",
       "│ statistiskais ┆               ┆                      ┆                     ┆                     │\n",
       "│ reģions (R…   ┆               ┆                      ┆                     ┆                     │\n",
       "│ Pierīgas      ┆ 2022          ┆ 186                  ┆ 9120                ┆ 466306              │\n",
       "│ statistiskais ┆               ┆                      ┆                     ┆                     │\n",
       "│ reģions…      ┆               ┆                      ┆                     ┆                     │\n",
       "└───────────────┴───────────────┴──────────────────────┴─────────────────────┴─────────────────────┘"
      ]
     },
     "execution_count": 160,
     "metadata": {},
     "output_type": "execute_result"
    }
   ],
   "source": [
    "metric_dfs[\"tourism\"] = (\n",
    "    pl.read_csv(\"https://data.stat.gov.lv:443/sq/23407\", skip_rows=2)\n",
    "    .select(\n",
    "        pl.col(\"Teritoriālā vienība\"),\n",
    "        pl.col(\"Laika periods\"),\n",
    "        pl.exclude([\"Teritoriālā vienība\", \"Laika periods\"]).name.prefix(\"Viesnīcas un citas tūristu mītnes: \")\n",
    "    )\n",
    ")\n",
    "metric_dfs[\"tourism\"].head(5)"
   ]
  },
  {
   "cell_type": "code",
   "execution_count": 164,
   "metadata": {},
   "outputs": [],
   "source": [
    "metric_df = list(metric_dfs.values())[0]\n",
    "\n",
    "for other_df in list(metric_dfs.values())[1:]:\n",
    "    metric_df = metric_df.join(other_df, on=[\"Teritoriālā vienība\", \"Laika periods\"], how=\"full\", coalesce=True)"
   ]
  },
  {
   "cell_type": "code",
   "execution_count": 168,
   "metadata": {},
   "outputs": [],
   "source": [
    "metric_df.write_csv(\"data/metrics.csv\")"
   ]
  },
  {
   "cell_type": "code",
   "execution_count": 89,
   "metadata": {},
   "outputs": [],
   "source": [
    "geo = gpd.read_file(\"data/novadi_all_metrics.zip\")\n",
    "# geo.columns = [\"code\", \"Novads\", \"pop\", \"geometry\"]\n",
    "# del geo[\"code\"]\n",
    "# del geo[\"pop\"]\n"
   ]
  },
  {
   "cell_type": "code",
   "execution_count": null,
   "metadata": {},
   "outputs": [],
   "source": []
  }
 ],
 "metadata": {
  "kernelspec": {
   "display_name": "Python 3 (ipykernel)",
   "language": "python",
   "name": "python3"
  },
  "language_info": {
   "codemirror_mode": {
    "name": "ipython",
    "version": 3
   },
   "file_extension": ".py",
   "mimetype": "text/x-python",
   "name": "python",
   "nbconvert_exporter": "python",
   "pygments_lexer": "ipython3",
   "version": "3.11.7"
  }
 },
 "nbformat": 4,
 "nbformat_minor": 4
}
